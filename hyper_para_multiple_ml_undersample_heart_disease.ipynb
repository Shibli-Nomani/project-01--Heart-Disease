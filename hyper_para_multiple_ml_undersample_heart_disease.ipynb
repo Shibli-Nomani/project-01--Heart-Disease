{
  "cells": [
    {
      "cell_type": "markdown",
      "metadata": {
        "id": "view-in-github",
        "colab_type": "text"
      },
      "source": [
        "<a href=\"https://colab.research.google.com/github/Shibli-Nomani/project-01--Heart-Disease/blob/main/hyper_para_multiple_ml_undersample_heart_disease.ipynb\" target=\"_parent\"><img src=\"https://colab.research.google.com/assets/colab-badge.svg\" alt=\"Open In Colab\"/></a>"
      ]
    },
    {
      "cell_type": "code",
      "execution_count": null,
      "metadata": {
        "colab": {
          "base_uri": "https://localhost:8080/"
        },
        "id": "0jUnxWJMvfJs",
        "outputId": "1585eda8-bd88-4bd9-967a-7beb7a9bf224"
      },
      "outputs": [
        {
          "output_type": "stream",
          "name": "stdout",
          "text": [
            "Drive already mounted at /content/gdrive; to attempt to forcibly remount, call drive.mount(\"/content/gdrive\", force_remount=True).\n"
          ]
        }
      ],
      "source": [
        "from google.colab import drive\n",
        "drive.mount('/content/gdrive')\n",
        "import warnings\n",
        "warnings.filterwarnings(\"ignore\")"
      ]
    },
    {
      "cell_type": "code",
      "execution_count": null,
      "metadata": {
        "colab": {
          "base_uri": "https://localhost:8080/",
          "height": 270
        },
        "id": "yORNHZSkDihY",
        "outputId": "94eb069f-64ac-4295-8426-fd685c1a73e6"
      },
      "outputs": [
        {
          "output_type": "execute_result",
          "data": {
            "text/plain": [
              "   HeartDisease       BMI  Smoking  AlcoholDrinking  Stroke  PhysicalHealth  \\\n",
              "0             0 -1.422409        0                0       1       -0.366034   \n",
              "1             0 -0.653422        0                0       0       -0.366034   \n",
              "2             0  0.822955        1                0       0        4.347674   \n",
              "3             0 -0.208323        0                0       0       -0.366034   \n",
              "4             0  2.621233        0                0       0       -0.366034   \n",
              "\n",
              "   MentalHealth  DiffWalking  Sex  AgeCategory  Race  Diabetic  \\\n",
              "0     -0.460504            0    0           12     5         0   \n",
              "1     -0.460504            0    0           11     5         0   \n",
              "2     -0.460504            1    0           12     5         2   \n",
              "3     -0.460504            0    0           12     5         1   \n",
              "4     -0.460504            1    1            9     5         0   \n",
              "\n",
              "   PhysicalActivity  GenHealth  SleepTime  Asthma  KidneyDisease  SkinCancer  \n",
              "0                 1          4  -0.142328       0              0           0  \n",
              "1                 0          2  -1.033281       0              0           1  \n",
              "2                 0          2   1.639578       1              0           0  \n",
              "3                 0          1  -1.924234       0              1           0  \n",
              "4                 1          2   2.530531       0              0           0  "
            ],
            "text/html": [
              "\n",
              "  <div id=\"df-54097ef8-3acd-4f51-9b8c-b33b1a3dc76e\">\n",
              "    <div class=\"colab-df-container\">\n",
              "      <div>\n",
              "<style scoped>\n",
              "    .dataframe tbody tr th:only-of-type {\n",
              "        vertical-align: middle;\n",
              "    }\n",
              "\n",
              "    .dataframe tbody tr th {\n",
              "        vertical-align: top;\n",
              "    }\n",
              "\n",
              "    .dataframe thead th {\n",
              "        text-align: right;\n",
              "    }\n",
              "</style>\n",
              "<table border=\"1\" class=\"dataframe\">\n",
              "  <thead>\n",
              "    <tr style=\"text-align: right;\">\n",
              "      <th></th>\n",
              "      <th>HeartDisease</th>\n",
              "      <th>BMI</th>\n",
              "      <th>Smoking</th>\n",
              "      <th>AlcoholDrinking</th>\n",
              "      <th>Stroke</th>\n",
              "      <th>PhysicalHealth</th>\n",
              "      <th>MentalHealth</th>\n",
              "      <th>DiffWalking</th>\n",
              "      <th>Sex</th>\n",
              "      <th>AgeCategory</th>\n",
              "      <th>Race</th>\n",
              "      <th>Diabetic</th>\n",
              "      <th>PhysicalActivity</th>\n",
              "      <th>GenHealth</th>\n",
              "      <th>SleepTime</th>\n",
              "      <th>Asthma</th>\n",
              "      <th>KidneyDisease</th>\n",
              "      <th>SkinCancer</th>\n",
              "    </tr>\n",
              "  </thead>\n",
              "  <tbody>\n",
              "    <tr>\n",
              "      <th>0</th>\n",
              "      <td>0</td>\n",
              "      <td>-1.422409</td>\n",
              "      <td>0</td>\n",
              "      <td>0</td>\n",
              "      <td>1</td>\n",
              "      <td>-0.366034</td>\n",
              "      <td>-0.460504</td>\n",
              "      <td>0</td>\n",
              "      <td>0</td>\n",
              "      <td>12</td>\n",
              "      <td>5</td>\n",
              "      <td>0</td>\n",
              "      <td>1</td>\n",
              "      <td>4</td>\n",
              "      <td>-0.142328</td>\n",
              "      <td>0</td>\n",
              "      <td>0</td>\n",
              "      <td>0</td>\n",
              "    </tr>\n",
              "    <tr>\n",
              "      <th>1</th>\n",
              "      <td>0</td>\n",
              "      <td>-0.653422</td>\n",
              "      <td>0</td>\n",
              "      <td>0</td>\n",
              "      <td>0</td>\n",
              "      <td>-0.366034</td>\n",
              "      <td>-0.460504</td>\n",
              "      <td>0</td>\n",
              "      <td>0</td>\n",
              "      <td>11</td>\n",
              "      <td>5</td>\n",
              "      <td>0</td>\n",
              "      <td>0</td>\n",
              "      <td>2</td>\n",
              "      <td>-1.033281</td>\n",
              "      <td>0</td>\n",
              "      <td>0</td>\n",
              "      <td>1</td>\n",
              "    </tr>\n",
              "    <tr>\n",
              "      <th>2</th>\n",
              "      <td>0</td>\n",
              "      <td>0.822955</td>\n",
              "      <td>1</td>\n",
              "      <td>0</td>\n",
              "      <td>0</td>\n",
              "      <td>4.347674</td>\n",
              "      <td>-0.460504</td>\n",
              "      <td>1</td>\n",
              "      <td>0</td>\n",
              "      <td>12</td>\n",
              "      <td>5</td>\n",
              "      <td>2</td>\n",
              "      <td>0</td>\n",
              "      <td>2</td>\n",
              "      <td>1.639578</td>\n",
              "      <td>1</td>\n",
              "      <td>0</td>\n",
              "      <td>0</td>\n",
              "    </tr>\n",
              "    <tr>\n",
              "      <th>3</th>\n",
              "      <td>0</td>\n",
              "      <td>-0.208323</td>\n",
              "      <td>0</td>\n",
              "      <td>0</td>\n",
              "      <td>0</td>\n",
              "      <td>-0.366034</td>\n",
              "      <td>-0.460504</td>\n",
              "      <td>0</td>\n",
              "      <td>0</td>\n",
              "      <td>12</td>\n",
              "      <td>5</td>\n",
              "      <td>1</td>\n",
              "      <td>0</td>\n",
              "      <td>1</td>\n",
              "      <td>-1.924234</td>\n",
              "      <td>0</td>\n",
              "      <td>1</td>\n",
              "      <td>0</td>\n",
              "    </tr>\n",
              "    <tr>\n",
              "      <th>4</th>\n",
              "      <td>0</td>\n",
              "      <td>2.621233</td>\n",
              "      <td>0</td>\n",
              "      <td>0</td>\n",
              "      <td>0</td>\n",
              "      <td>-0.366034</td>\n",
              "      <td>-0.460504</td>\n",
              "      <td>1</td>\n",
              "      <td>1</td>\n",
              "      <td>9</td>\n",
              "      <td>5</td>\n",
              "      <td>0</td>\n",
              "      <td>1</td>\n",
              "      <td>2</td>\n",
              "      <td>2.530531</td>\n",
              "      <td>0</td>\n",
              "      <td>0</td>\n",
              "      <td>0</td>\n",
              "    </tr>\n",
              "  </tbody>\n",
              "</table>\n",
              "</div>\n",
              "      <button class=\"colab-df-convert\" onclick=\"convertToInteractive('df-54097ef8-3acd-4f51-9b8c-b33b1a3dc76e')\"\n",
              "              title=\"Convert this dataframe to an interactive table.\"\n",
              "              style=\"display:none;\">\n",
              "        \n",
              "  <svg xmlns=\"http://www.w3.org/2000/svg\" height=\"24px\"viewBox=\"0 0 24 24\"\n",
              "       width=\"24px\">\n",
              "    <path d=\"M0 0h24v24H0V0z\" fill=\"none\"/>\n",
              "    <path d=\"M18.56 5.44l.94 2.06.94-2.06 2.06-.94-2.06-.94-.94-2.06-.94 2.06-2.06.94zm-11 1L8.5 8.5l.94-2.06 2.06-.94-2.06-.94L8.5 2.5l-.94 2.06-2.06.94zm10 10l.94 2.06.94-2.06 2.06-.94-2.06-.94-.94-2.06-.94 2.06-2.06.94z\"/><path d=\"M17.41 7.96l-1.37-1.37c-.4-.4-.92-.59-1.43-.59-.52 0-1.04.2-1.43.59L10.3 9.45l-7.72 7.72c-.78.78-.78 2.05 0 2.83L4 21.41c.39.39.9.59 1.41.59.51 0 1.02-.2 1.41-.59l7.78-7.78 2.81-2.81c.8-.78.8-2.07 0-2.86zM5.41 20L4 18.59l7.72-7.72 1.47 1.35L5.41 20z\"/>\n",
              "  </svg>\n",
              "      </button>\n",
              "      \n",
              "  <style>\n",
              "    .colab-df-container {\n",
              "      display:flex;\n",
              "      flex-wrap:wrap;\n",
              "      gap: 12px;\n",
              "    }\n",
              "\n",
              "    .colab-df-convert {\n",
              "      background-color: #E8F0FE;\n",
              "      border: none;\n",
              "      border-radius: 50%;\n",
              "      cursor: pointer;\n",
              "      display: none;\n",
              "      fill: #1967D2;\n",
              "      height: 32px;\n",
              "      padding: 0 0 0 0;\n",
              "      width: 32px;\n",
              "    }\n",
              "\n",
              "    .colab-df-convert:hover {\n",
              "      background-color: #E2EBFA;\n",
              "      box-shadow: 0px 1px 2px rgba(60, 64, 67, 0.3), 0px 1px 3px 1px rgba(60, 64, 67, 0.15);\n",
              "      fill: #174EA6;\n",
              "    }\n",
              "\n",
              "    [theme=dark] .colab-df-convert {\n",
              "      background-color: #3B4455;\n",
              "      fill: #D2E3FC;\n",
              "    }\n",
              "\n",
              "    [theme=dark] .colab-df-convert:hover {\n",
              "      background-color: #434B5C;\n",
              "      box-shadow: 0px 1px 3px 1px rgba(0, 0, 0, 0.15);\n",
              "      filter: drop-shadow(0px 1px 2px rgba(0, 0, 0, 0.3));\n",
              "      fill: #FFFFFF;\n",
              "    }\n",
              "  </style>\n",
              "\n",
              "      <script>\n",
              "        const buttonEl =\n",
              "          document.querySelector('#df-54097ef8-3acd-4f51-9b8c-b33b1a3dc76e button.colab-df-convert');\n",
              "        buttonEl.style.display =\n",
              "          google.colab.kernel.accessAllowed ? 'block' : 'none';\n",
              "\n",
              "        async function convertToInteractive(key) {\n",
              "          const element = document.querySelector('#df-54097ef8-3acd-4f51-9b8c-b33b1a3dc76e');\n",
              "          const dataTable =\n",
              "            await google.colab.kernel.invokeFunction('convertToInteractive',\n",
              "                                                     [key], {});\n",
              "          if (!dataTable) return;\n",
              "\n",
              "          const docLinkHtml = 'Like what you see? Visit the ' +\n",
              "            '<a target=\"_blank\" href=https://colab.research.google.com/notebooks/data_table.ipynb>data table notebook</a>'\n",
              "            + ' to learn more about interactive tables.';\n",
              "          element.innerHTML = '';\n",
              "          dataTable['output_type'] = 'display_data';\n",
              "          await google.colab.output.renderOutput(dataTable, element);\n",
              "          const docLink = document.createElement('div');\n",
              "          docLink.innerHTML = docLinkHtml;\n",
              "          element.appendChild(docLink);\n",
              "        }\n",
              "      </script>\n",
              "    </div>\n",
              "  </div>\n",
              "  "
            ]
          },
          "metadata": {},
          "execution_count": 2
        }
      ],
      "source": [
        "import pandas as pd\n",
        "import numpy as np\n",
        "import seaborn as sns\n",
        "import matplotlib.pyplot as plt\n",
        "%matplotlib inline\n",
        "path='/content/gdrive/MyDrive/Final Project/train.csv'\n",
        "df=pd.read_csv(path)\n",
        "df.head(5)"
      ]
    },
    {
      "cell_type": "code",
      "execution_count": null,
      "metadata": {
        "colab": {
          "base_uri": "https://localhost:8080/",
          "height": 270
        },
        "id": "FvNNILw3I_8m",
        "outputId": "48685298-1490-45f7-e00f-d7b61d139a92"
      },
      "outputs": [
        {
          "output_type": "execute_result",
          "data": {
            "text/plain": [
              "        BMI  Smoking  AlcoholDrinking  Stroke  PhysicalHealth  MentalHealth  \\\n",
              "0 -1.422409        0                0       1       -0.366034     -0.460504   \n",
              "1 -0.653422        0                0       0       -0.366034     -0.460504   \n",
              "2  0.822955        1                0       0        4.347674     -0.460504   \n",
              "3 -0.208323        0                0       0       -0.366034     -0.460504   \n",
              "4  2.621233        0                0       0       -0.366034     -0.460504   \n",
              "\n",
              "   DiffWalking  Sex  AgeCategory  Race  Diabetic  PhysicalActivity  GenHealth  \\\n",
              "0            0    0           12     5         0                 1          4   \n",
              "1            0    0           11     5         0                 0          2   \n",
              "2            1    0           12     5         2                 0          2   \n",
              "3            0    0           12     5         1                 0          1   \n",
              "4            1    1            9     5         0                 1          2   \n",
              "\n",
              "   SleepTime  Asthma  KidneyDisease  SkinCancer  \n",
              "0  -0.142328       0              0           0  \n",
              "1  -1.033281       0              0           1  \n",
              "2   1.639578       1              0           0  \n",
              "3  -1.924234       0              1           0  \n",
              "4   2.530531       0              0           0  "
            ],
            "text/html": [
              "\n",
              "  <div id=\"df-5748b416-4213-4bc3-ad39-255283dbc5bd\">\n",
              "    <div class=\"colab-df-container\">\n",
              "      <div>\n",
              "<style scoped>\n",
              "    .dataframe tbody tr th:only-of-type {\n",
              "        vertical-align: middle;\n",
              "    }\n",
              "\n",
              "    .dataframe tbody tr th {\n",
              "        vertical-align: top;\n",
              "    }\n",
              "\n",
              "    .dataframe thead th {\n",
              "        text-align: right;\n",
              "    }\n",
              "</style>\n",
              "<table border=\"1\" class=\"dataframe\">\n",
              "  <thead>\n",
              "    <tr style=\"text-align: right;\">\n",
              "      <th></th>\n",
              "      <th>BMI</th>\n",
              "      <th>Smoking</th>\n",
              "      <th>AlcoholDrinking</th>\n",
              "      <th>Stroke</th>\n",
              "      <th>PhysicalHealth</th>\n",
              "      <th>MentalHealth</th>\n",
              "      <th>DiffWalking</th>\n",
              "      <th>Sex</th>\n",
              "      <th>AgeCategory</th>\n",
              "      <th>Race</th>\n",
              "      <th>Diabetic</th>\n",
              "      <th>PhysicalActivity</th>\n",
              "      <th>GenHealth</th>\n",
              "      <th>SleepTime</th>\n",
              "      <th>Asthma</th>\n",
              "      <th>KidneyDisease</th>\n",
              "      <th>SkinCancer</th>\n",
              "    </tr>\n",
              "  </thead>\n",
              "  <tbody>\n",
              "    <tr>\n",
              "      <th>0</th>\n",
              "      <td>-1.422409</td>\n",
              "      <td>0</td>\n",
              "      <td>0</td>\n",
              "      <td>1</td>\n",
              "      <td>-0.366034</td>\n",
              "      <td>-0.460504</td>\n",
              "      <td>0</td>\n",
              "      <td>0</td>\n",
              "      <td>12</td>\n",
              "      <td>5</td>\n",
              "      <td>0</td>\n",
              "      <td>1</td>\n",
              "      <td>4</td>\n",
              "      <td>-0.142328</td>\n",
              "      <td>0</td>\n",
              "      <td>0</td>\n",
              "      <td>0</td>\n",
              "    </tr>\n",
              "    <tr>\n",
              "      <th>1</th>\n",
              "      <td>-0.653422</td>\n",
              "      <td>0</td>\n",
              "      <td>0</td>\n",
              "      <td>0</td>\n",
              "      <td>-0.366034</td>\n",
              "      <td>-0.460504</td>\n",
              "      <td>0</td>\n",
              "      <td>0</td>\n",
              "      <td>11</td>\n",
              "      <td>5</td>\n",
              "      <td>0</td>\n",
              "      <td>0</td>\n",
              "      <td>2</td>\n",
              "      <td>-1.033281</td>\n",
              "      <td>0</td>\n",
              "      <td>0</td>\n",
              "      <td>1</td>\n",
              "    </tr>\n",
              "    <tr>\n",
              "      <th>2</th>\n",
              "      <td>0.822955</td>\n",
              "      <td>1</td>\n",
              "      <td>0</td>\n",
              "      <td>0</td>\n",
              "      <td>4.347674</td>\n",
              "      <td>-0.460504</td>\n",
              "      <td>1</td>\n",
              "      <td>0</td>\n",
              "      <td>12</td>\n",
              "      <td>5</td>\n",
              "      <td>2</td>\n",
              "      <td>0</td>\n",
              "      <td>2</td>\n",
              "      <td>1.639578</td>\n",
              "      <td>1</td>\n",
              "      <td>0</td>\n",
              "      <td>0</td>\n",
              "    </tr>\n",
              "    <tr>\n",
              "      <th>3</th>\n",
              "      <td>-0.208323</td>\n",
              "      <td>0</td>\n",
              "      <td>0</td>\n",
              "      <td>0</td>\n",
              "      <td>-0.366034</td>\n",
              "      <td>-0.460504</td>\n",
              "      <td>0</td>\n",
              "      <td>0</td>\n",
              "      <td>12</td>\n",
              "      <td>5</td>\n",
              "      <td>1</td>\n",
              "      <td>0</td>\n",
              "      <td>1</td>\n",
              "      <td>-1.924234</td>\n",
              "      <td>0</td>\n",
              "      <td>1</td>\n",
              "      <td>0</td>\n",
              "    </tr>\n",
              "    <tr>\n",
              "      <th>4</th>\n",
              "      <td>2.621233</td>\n",
              "      <td>0</td>\n",
              "      <td>0</td>\n",
              "      <td>0</td>\n",
              "      <td>-0.366034</td>\n",
              "      <td>-0.460504</td>\n",
              "      <td>1</td>\n",
              "      <td>1</td>\n",
              "      <td>9</td>\n",
              "      <td>5</td>\n",
              "      <td>0</td>\n",
              "      <td>1</td>\n",
              "      <td>2</td>\n",
              "      <td>2.530531</td>\n",
              "      <td>0</td>\n",
              "      <td>0</td>\n",
              "      <td>0</td>\n",
              "    </tr>\n",
              "  </tbody>\n",
              "</table>\n",
              "</div>\n",
              "      <button class=\"colab-df-convert\" onclick=\"convertToInteractive('df-5748b416-4213-4bc3-ad39-255283dbc5bd')\"\n",
              "              title=\"Convert this dataframe to an interactive table.\"\n",
              "              style=\"display:none;\">\n",
              "        \n",
              "  <svg xmlns=\"http://www.w3.org/2000/svg\" height=\"24px\"viewBox=\"0 0 24 24\"\n",
              "       width=\"24px\">\n",
              "    <path d=\"M0 0h24v24H0V0z\" fill=\"none\"/>\n",
              "    <path d=\"M18.56 5.44l.94 2.06.94-2.06 2.06-.94-2.06-.94-.94-2.06-.94 2.06-2.06.94zm-11 1L8.5 8.5l.94-2.06 2.06-.94-2.06-.94L8.5 2.5l-.94 2.06-2.06.94zm10 10l.94 2.06.94-2.06 2.06-.94-2.06-.94-.94-2.06-.94 2.06-2.06.94z\"/><path d=\"M17.41 7.96l-1.37-1.37c-.4-.4-.92-.59-1.43-.59-.52 0-1.04.2-1.43.59L10.3 9.45l-7.72 7.72c-.78.78-.78 2.05 0 2.83L4 21.41c.39.39.9.59 1.41.59.51 0 1.02-.2 1.41-.59l7.78-7.78 2.81-2.81c.8-.78.8-2.07 0-2.86zM5.41 20L4 18.59l7.72-7.72 1.47 1.35L5.41 20z\"/>\n",
              "  </svg>\n",
              "      </button>\n",
              "      \n",
              "  <style>\n",
              "    .colab-df-container {\n",
              "      display:flex;\n",
              "      flex-wrap:wrap;\n",
              "      gap: 12px;\n",
              "    }\n",
              "\n",
              "    .colab-df-convert {\n",
              "      background-color: #E8F0FE;\n",
              "      border: none;\n",
              "      border-radius: 50%;\n",
              "      cursor: pointer;\n",
              "      display: none;\n",
              "      fill: #1967D2;\n",
              "      height: 32px;\n",
              "      padding: 0 0 0 0;\n",
              "      width: 32px;\n",
              "    }\n",
              "\n",
              "    .colab-df-convert:hover {\n",
              "      background-color: #E2EBFA;\n",
              "      box-shadow: 0px 1px 2px rgba(60, 64, 67, 0.3), 0px 1px 3px 1px rgba(60, 64, 67, 0.15);\n",
              "      fill: #174EA6;\n",
              "    }\n",
              "\n",
              "    [theme=dark] .colab-df-convert {\n",
              "      background-color: #3B4455;\n",
              "      fill: #D2E3FC;\n",
              "    }\n",
              "\n",
              "    [theme=dark] .colab-df-convert:hover {\n",
              "      background-color: #434B5C;\n",
              "      box-shadow: 0px 1px 3px 1px rgba(0, 0, 0, 0.15);\n",
              "      filter: drop-shadow(0px 1px 2px rgba(0, 0, 0, 0.3));\n",
              "      fill: #FFFFFF;\n",
              "    }\n",
              "  </style>\n",
              "\n",
              "      <script>\n",
              "        const buttonEl =\n",
              "          document.querySelector('#df-5748b416-4213-4bc3-ad39-255283dbc5bd button.colab-df-convert');\n",
              "        buttonEl.style.display =\n",
              "          google.colab.kernel.accessAllowed ? 'block' : 'none';\n",
              "\n",
              "        async function convertToInteractive(key) {\n",
              "          const element = document.querySelector('#df-5748b416-4213-4bc3-ad39-255283dbc5bd');\n",
              "          const dataTable =\n",
              "            await google.colab.kernel.invokeFunction('convertToInteractive',\n",
              "                                                     [key], {});\n",
              "          if (!dataTable) return;\n",
              "\n",
              "          const docLinkHtml = 'Like what you see? Visit the ' +\n",
              "            '<a target=\"_blank\" href=https://colab.research.google.com/notebooks/data_table.ipynb>data table notebook</a>'\n",
              "            + ' to learn more about interactive tables.';\n",
              "          element.innerHTML = '';\n",
              "          dataTable['output_type'] = 'display_data';\n",
              "          await google.colab.output.renderOutput(dataTable, element);\n",
              "          const docLink = document.createElement('div');\n",
              "          docLink.innerHTML = docLinkHtml;\n",
              "          element.appendChild(docLink);\n",
              "        }\n",
              "      </script>\n",
              "    </div>\n",
              "  </div>\n",
              "  "
            ]
          },
          "metadata": {},
          "execution_count": 3
        }
      ],
      "source": [
        "#target\n",
        "y=df['HeartDisease']\n",
        "#features\n",
        "X=df.copy()\n",
        "X=df.drop('HeartDisease', axis=1)\n",
        "X.head(5)"
      ]
    },
    {
      "cell_type": "code",
      "execution_count": null,
      "metadata": {
        "id": "rJm2b1KRJmQY"
      },
      "outputs": [],
      "source": [
        "from sklearn.model_selection import train_test_split\n",
        "from sklearn.linear_model import LogisticRegression\n",
        "from sklearn import svm\n",
        "from sklearn.svm import LinearSVC\n",
        "from sklearn.linear_model import SGDClassifier\n",
        "from sklearn.neighbors import KNeighborsClassifier\n",
        "from sklearn.ensemble import RandomForestClassifier\n",
        "from sklearn.tree import DecisionTreeClassifier\n",
        "from sklearn.ensemble import GradientBoostingClassifier\n",
        "from xgboost import XGBClassifier\n",
        "from sklearn.ensemble import AdaBoostClassifier\n",
        "from sklearn.discriminant_analysis import LinearDiscriminantAnalysis\n",
        "import sklearn.metrics as metrics\n",
        "from sklearn.metrics import accuracy_score\n",
        "from sklearn.metrics import mean_squared_error,confusion_matrix, precision_score, recall_score, f1_score, auc,roc_curve\n",
        "from sklearn.metrics import roc_auc_score\n",
        "from sklearn.metrics import mean_absolute_error\n",
        "\n",
        "\n",
        "from sklearn.pipeline import Pipeline\n",
        "from sklearn.model_selection import GridSearchCV\n",
        "\n",
        "import warnings\n",
        "warnings.filterwarnings(\"ignore\")\n",
        "\n"
      ]
    },
    {
      "cell_type": "markdown",
      "metadata": {
        "id": "92d0KKOjtCtN"
      },
      "source": [
        "#**Under Sampling**"
      ]
    },
    {
      "cell_type": "code",
      "execution_count": null,
      "metadata": {
        "id": "epXi00CitGiA"
      },
      "outputs": [],
      "source": [
        "df1=df.copy()\n",
        "#Target\n",
        "y_us=df1['HeartDisease']\n",
        "#Features\n",
        "\n",
        "X_us=df1.copy()\n",
        "X_us=df1.drop('HeartDisease', axis=1)"
      ]
    },
    {
      "cell_type": "code",
      "execution_count": null,
      "metadata": {
        "colab": {
          "base_uri": "https://localhost:8080/"
        },
        "id": "LVZiMOaztfUI",
        "outputId": "484fbc80-52ef-4dd8-edb3-e0c74b417b0c"
      },
      "outputs": [
        {
          "output_type": "stream",
          "name": "stdout",
          "text": [
            "(31722, 17)\n",
            "(31722,)\n"
          ]
        }
      ],
      "source": [
        "from imblearn.under_sampling import NearMiss\n",
        "NearMiss_obj = NearMiss()\n",
        "X_us , y_us = NearMiss_obj.fit_resample(X_us,y_us)\n",
        "print(X_us.shape)\n",
        "print(y_us.shape)"
      ]
    },
    {
      "cell_type": "code",
      "execution_count": null,
      "metadata": {
        "id": "HnQ85rhStP6-"
      },
      "outputs": [],
      "source": [
        "X_us_train, X_us_test, y_us_train, y_us_test = train_test_split(X_us,y_us,test_size = 0.2, random_state=42)"
      ]
    },
    {
      "cell_type": "markdown",
      "source": [
        "#Compare Different Model without Hyperparameter Tuning"
      ],
      "metadata": {
        "id": "QEa-_jClvn2q"
      }
    },
    {
      "cell_type": "code",
      "execution_count": null,
      "metadata": {
        "id": "ZoOg8XxNOf-G"
      },
      "outputs": [],
      "source": [
        "models = [\n",
        "   LogisticRegression(),\n",
        "   LinearSVC(random_state=42),\n",
        "   SGDClassifier(),\n",
        "   KNeighborsClassifier(),\n",
        "   RandomForestClassifier(random_state=42),\n",
        "   DecisionTreeClassifier(random_state=42),\n",
        "   GradientBoostingClassifier(random_state=42),\n",
        "   XGBClassifier(random_state=42),\n",
        "   AdaBoostClassifier(random_state=42),\n",
        "   LinearDiscriminantAnalysis()\n",
        "   ]"
      ]
    },
    {
      "cell_type": "code",
      "execution_count": null,
      "metadata": {
        "id": "ASonzCE8Of-G"
      },
      "outputs": [],
      "source": [
        "names =['Logestic Regression', 'SVMLinear', 'SGD', 'KNN', 'RandomForest', 'DecisionTree', 'GradientBoost', 'XGBOOST', 'ADABoost', 'LDA']  \n",
        "\n",
        "models_columns = []\n",
        "models_compare = pd.DataFrame(columns = models_columns)\n",
        "\n",
        "row_index = 0\n",
        "for models_name, ml in zip(names, models): \n",
        "    \n",
        "    ml.fit(X_us_train, y_us_train)\n",
        "    y_us_pred=ml.fit(X_us_train, y_us_train).predict(X_us_test)\n",
        "    fp, tp, tn = roc_curve(y_us_test, y_us_pred)\n",
        "    #models_name = ml.__class__.__name__\n",
        "    models_compare.loc[row_index,'Model Name'] = models_name\n",
        "    models_compare.loc[row_index, 'Train Accuracy'] = round(ml.score(X_us_train, y_us_train), 5)\n",
        "    models_compare.loc[row_index, 'Test Accuracy'] = round(ml.score(X_us_test, y_us_test), 5)\n",
        "    models_compare.loc[row_index, 'Precission'] = precision_score(y_us_test, y_us_pred)\n",
        "    models_compare.loc[row_index, 'Recall'] = recall_score(y_us_test, y_us_pred)\n",
        "    models_compare.loc[row_index, 'f1 Score']=f1_score(y_us_test, y_us_pred)\n",
        "    models_compare.loc[row_index, 'AUC'] = auc(fp, tp)\n",
        "    models_compare.loc[row_index, 'mean abs error']=mean_absolute_error(y_us_test, y_us_pred)\n",
        "    row_index+=1\n",
        "    \n",
        "models_compare.sort_values(by = ['Test Accuracy'], ascending = False, inplace = True)    \n"
      ]
    },
    {
      "cell_type": "code",
      "execution_count": null,
      "metadata": {
        "colab": {
          "base_uri": "https://localhost:8080/",
          "height": 363
        },
        "id": "oBwJbjONOf-H",
        "outputId": "2acde09d-42ef-4e3e-d183-95c77368c638"
      },
      "outputs": [
        {
          "output_type": "execute_result",
          "data": {
            "text/plain": [
              "<pandas.io.formats.style.Styler at 0x7f7b0c2b8050>"
            ],
            "text/html": [
              "<style type=\"text/css\">\n",
              "#T_a4687_row0_col0, #T_a4687_row0_col1, #T_a4687_row0_col2, #T_a4687_row0_col3, #T_a4687_row0_col4, #T_a4687_row0_col5, #T_a4687_row0_col6, #T_a4687_row0_col7, #T_a4687_row1_col0, #T_a4687_row1_col1, #T_a4687_row1_col2, #T_a4687_row1_col3, #T_a4687_row1_col4, #T_a4687_row1_col5, #T_a4687_row1_col6, #T_a4687_row1_col7, #T_a4687_row2_col0, #T_a4687_row2_col1, #T_a4687_row2_col2, #T_a4687_row2_col3, #T_a4687_row2_col4, #T_a4687_row2_col5, #T_a4687_row2_col6, #T_a4687_row2_col7, #T_a4687_row3_col0, #T_a4687_row3_col1, #T_a4687_row3_col2, #T_a4687_row3_col3, #T_a4687_row3_col4, #T_a4687_row3_col5, #T_a4687_row3_col6, #T_a4687_row3_col7, #T_a4687_row4_col0, #T_a4687_row4_col1, #T_a4687_row4_col2, #T_a4687_row4_col3, #T_a4687_row4_col4, #T_a4687_row4_col5, #T_a4687_row4_col6, #T_a4687_row4_col7, #T_a4687_row5_col0, #T_a4687_row5_col1, #T_a4687_row5_col2, #T_a4687_row5_col3, #T_a4687_row5_col4, #T_a4687_row5_col5, #T_a4687_row5_col6, #T_a4687_row5_col7, #T_a4687_row6_col0, #T_a4687_row6_col1, #T_a4687_row6_col2, #T_a4687_row6_col3, #T_a4687_row6_col4, #T_a4687_row6_col5, #T_a4687_row6_col6, #T_a4687_row6_col7, #T_a4687_row7_col0, #T_a4687_row7_col1, #T_a4687_row7_col2, #T_a4687_row7_col3, #T_a4687_row7_col4, #T_a4687_row7_col5, #T_a4687_row7_col6, #T_a4687_row7_col7, #T_a4687_row8_col0, #T_a4687_row8_col1, #T_a4687_row8_col2, #T_a4687_row8_col3, #T_a4687_row8_col4, #T_a4687_row8_col5, #T_a4687_row8_col6, #T_a4687_row8_col7, #T_a4687_row9_col0, #T_a4687_row9_col1, #T_a4687_row9_col2, #T_a4687_row9_col3, #T_a4687_row9_col4, #T_a4687_row9_col5, #T_a4687_row9_col6, #T_a4687_row9_col7 {\n",
              "  background-color: blue;\n",
              "  color: white;\n",
              "}\n",
              "</style>\n",
              "<table id=\"T_a4687_\" class=\"dataframe\">\n",
              "  <thead>\n",
              "    <tr>\n",
              "      <th class=\"blank level0\" >&nbsp;</th>\n",
              "      <th class=\"col_heading level0 col0\" >Model Name</th>\n",
              "      <th class=\"col_heading level0 col1\" >Train Accuracy</th>\n",
              "      <th class=\"col_heading level0 col2\" >Test Accuracy</th>\n",
              "      <th class=\"col_heading level0 col3\" >Precission</th>\n",
              "      <th class=\"col_heading level0 col4\" >Recall</th>\n",
              "      <th class=\"col_heading level0 col5\" >f1 Score</th>\n",
              "      <th class=\"col_heading level0 col6\" >AUC</th>\n",
              "      <th class=\"col_heading level0 col7\" >mean abs error</th>\n",
              "    </tr>\n",
              "  </thead>\n",
              "  <tbody>\n",
              "    <tr>\n",
              "      <th id=\"T_a4687_level0_row0\" class=\"row_heading level0 row0\" >6</th>\n",
              "      <td id=\"T_a4687_row0_col0\" class=\"data row0 col0\" >GradientBoost</td>\n",
              "      <td id=\"T_a4687_row0_col1\" class=\"data row0 col1\" >0.883200</td>\n",
              "      <td id=\"T_a4687_row0_col2\" class=\"data row0 col2\" >0.883530</td>\n",
              "      <td id=\"T_a4687_row0_col3\" class=\"data row0 col3\" >0.924616</td>\n",
              "      <td id=\"T_a4687_row0_col4\" class=\"data row0 col4\" >0.830552</td>\n",
              "      <td id=\"T_a4687_row0_col5\" class=\"data row0 col5\" >0.875063</td>\n",
              "      <td id=\"T_a4687_row0_col6\" class=\"data row0 col6\" >0.882603</td>\n",
              "      <td id=\"T_a4687_row0_col7\" class=\"data row0 col7\" >0.116470</td>\n",
              "    </tr>\n",
              "    <tr>\n",
              "      <th id=\"T_a4687_level0_row1\" class=\"row_heading level0 row1\" >7</th>\n",
              "      <td id=\"T_a4687_row1_col0\" class=\"data row1 col0\" >XGBOOST</td>\n",
              "      <td id=\"T_a4687_row1_col1\" class=\"data row1 col1\" >0.880920</td>\n",
              "      <td id=\"T_a4687_row1_col2\" class=\"data row1 col2\" >0.878010</td>\n",
              "      <td id=\"T_a4687_row1_col3\" class=\"data row1 col3\" >0.931149</td>\n",
              "      <td id=\"T_a4687_row1_col4\" class=\"data row1 col4\" >0.811617</td>\n",
              "      <td id=\"T_a4687_row1_col5\" class=\"data row1 col5\" >0.867284</td>\n",
              "      <td id=\"T_a4687_row1_col6\" class=\"data row1 col6\" >0.876852</td>\n",
              "      <td id=\"T_a4687_row1_col7\" class=\"data row1 col7\" >0.121986</td>\n",
              "    </tr>\n",
              "    <tr>\n",
              "      <th id=\"T_a4687_level0_row2\" class=\"row_heading level0 row2\" >8</th>\n",
              "      <td id=\"T_a4687_row2_col0\" class=\"data row2 col0\" >ADABoost</td>\n",
              "      <td id=\"T_a4687_row2_col1\" class=\"data row2 col1\" >0.875120</td>\n",
              "      <td id=\"T_a4687_row2_col2\" class=\"data row2 col2\" >0.875020</td>\n",
              "      <td id=\"T_a4687_row2_col3\" class=\"data row2 col3\" >0.914377</td>\n",
              "      <td id=\"T_a4687_row2_col4\" class=\"data row2 col4\" >0.822529</td>\n",
              "      <td id=\"T_a4687_row2_col5\" class=\"data row2 col5\" >0.866025</td>\n",
              "      <td id=\"T_a4687_row2_col6\" class=\"data row2 col6\" >0.874101</td>\n",
              "      <td id=\"T_a4687_row2_col7\" class=\"data row2 col7\" >0.124980</td>\n",
              "    </tr>\n",
              "    <tr>\n",
              "      <th id=\"T_a4687_level0_row3\" class=\"row_heading level0 row3\" >4</th>\n",
              "      <td id=\"T_a4687_row3_col0\" class=\"data row3 col0\" >RandomForest</td>\n",
              "      <td id=\"T_a4687_row3_col1\" class=\"data row3 col1\" >0.975840</td>\n",
              "      <td id=\"T_a4687_row3_col2\" class=\"data row3 col2\" >0.856260</td>\n",
              "      <td id=\"T_a4687_row3_col3\" class=\"data row3 col3\" >0.859192</td>\n",
              "      <td id=\"T_a4687_row3_col4\" class=\"data row3 col4\" >0.845956</td>\n",
              "      <td id=\"T_a4687_row3_col5\" class=\"data row3 col5\" >0.852523</td>\n",
              "      <td id=\"T_a4687_row3_col6\" class=\"data row3 col6\" >0.856084</td>\n",
              "      <td id=\"T_a4687_row3_col7\" class=\"data row3 col7\" >0.143735</td>\n",
              "    </tr>\n",
              "    <tr>\n",
              "      <th id=\"T_a4687_level0_row4\" class=\"row_heading level0 row4\" >2</th>\n",
              "      <td id=\"T_a4687_row4_col0\" class=\"data row4 col0\" >SGD</td>\n",
              "      <td id=\"T_a4687_row4_col1\" class=\"data row4 col1\" >0.855180</td>\n",
              "      <td id=\"T_a4687_row4_col2\" class=\"data row4 col2\" >0.853900</td>\n",
              "      <td id=\"T_a4687_row4_col3\" class=\"data row4 col3\" >0.910386</td>\n",
              "      <td id=\"T_a4687_row4_col4\" class=\"data row4 col4\" >0.779204</td>\n",
              "      <td id=\"T_a4687_row4_col5\" class=\"data row4 col5\" >0.839703</td>\n",
              "      <td id=\"T_a4687_row4_col6\" class=\"data row4 col6\" >0.852594</td>\n",
              "      <td id=\"T_a4687_row4_col7\" class=\"data row4 col7\" >0.146099</td>\n",
              "    </tr>\n",
              "    <tr>\n",
              "      <th id=\"T_a4687_level0_row5\" class=\"row_heading level0 row5\" >5</th>\n",
              "      <td id=\"T_a4687_row5_col0\" class=\"data row5 col0\" >DecisionTree</td>\n",
              "      <td id=\"T_a4687_row5_col1\" class=\"data row5 col1\" >0.975960</td>\n",
              "      <td id=\"T_a4687_row5_col2\" class=\"data row5 col2\" >0.850590</td>\n",
              "      <td id=\"T_a4687_row5_col3\" class=\"data row5 col3\" >0.858466</td>\n",
              "      <td id=\"T_a4687_row5_col4\" class=\"data row5 col4\" >0.833119</td>\n",
              "      <td id=\"T_a4687_row5_col5\" class=\"data row5 col5\" >0.845603</td>\n",
              "      <td id=\"T_a4687_row5_col6\" class=\"data row5 col6\" >0.850285</td>\n",
              "      <td id=\"T_a4687_row5_col7\" class=\"data row5 col7\" >0.149409</td>\n",
              "    </tr>\n",
              "    <tr>\n",
              "      <th id=\"T_a4687_level0_row6\" class=\"row_heading level0 row6\" >0</th>\n",
              "      <td id=\"T_a4687_row6_col0\" class=\"data row6 col0\" >Logestic Regression</td>\n",
              "      <td id=\"T_a4687_row6_col1\" class=\"data row6 col1\" >0.852430</td>\n",
              "      <td id=\"T_a4687_row6_col2\" class=\"data row6 col2\" >0.850120</td>\n",
              "      <td id=\"T_a4687_row6_col3\" class=\"data row6 col3\" >0.901968</td>\n",
              "      <td id=\"T_a4687_row6_col4\" class=\"data row6 col4\" >0.779525</td>\n",
              "      <td id=\"T_a4687_row6_col5\" class=\"data row6 col5\" >0.836289</td>\n",
              "      <td id=\"T_a4687_row6_col6\" class=\"data row6 col6\" >0.848883</td>\n",
              "      <td id=\"T_a4687_row6_col7\" class=\"data row6 col7\" >0.149882</td>\n",
              "    </tr>\n",
              "    <tr>\n",
              "      <th id=\"T_a4687_level0_row7\" class=\"row_heading level0 row7\" >1</th>\n",
              "      <td id=\"T_a4687_row7_col0\" class=\"data row7 col0\" >SVMLinear</td>\n",
              "      <td id=\"T_a4687_row7_col1\" class=\"data row7 col1\" >0.851560</td>\n",
              "      <td id=\"T_a4687_row7_col2\" class=\"data row7 col2\" >0.849490</td>\n",
              "      <td id=\"T_a4687_row7_col3\" class=\"data row7 col3\" >0.908507</td>\n",
              "      <td id=\"T_a4687_row7_col4\" class=\"data row7 col4\" >0.771181</td>\n",
              "      <td id=\"T_a4687_row7_col5\" class=\"data row7 col5\" >0.834230</td>\n",
              "      <td id=\"T_a4687_row7_col6\" class=\"data row7 col6\" >0.848118</td>\n",
              "      <td id=\"T_a4687_row7_col7\" class=\"data row7 col7\" >0.150512</td>\n",
              "    </tr>\n",
              "    <tr>\n",
              "      <th id=\"T_a4687_level0_row8\" class=\"row_heading level0 row8\" >3</th>\n",
              "      <td id=\"T_a4687_row8_col0\" class=\"data row8 col0\" >KNN</td>\n",
              "      <td id=\"T_a4687_row8_col1\" class=\"data row8 col1\" >0.880010</td>\n",
              "      <td id=\"T_a4687_row8_col2\" class=\"data row8 col2\" >0.832780</td>\n",
              "      <td id=\"T_a4687_row8_col3\" class=\"data row8 col3\" >0.924411</td>\n",
              "      <td id=\"T_a4687_row8_col4\" class=\"data row8 col4\" >0.718228</td>\n",
              "      <td id=\"T_a4687_row8_col5\" class=\"data row8 col5\" >0.808380</td>\n",
              "      <td id=\"T_a4687_row8_col6\" class=\"data row8 col6\" >0.830777</td>\n",
              "      <td id=\"T_a4687_row8_col7\" class=\"data row8 col7\" >0.167218</td>\n",
              "    </tr>\n",
              "    <tr>\n",
              "      <th id=\"T_a4687_level0_row9\" class=\"row_heading level0 row9\" >9</th>\n",
              "      <td id=\"T_a4687_row9_col0\" class=\"data row9 col0\" >LDA</td>\n",
              "      <td id=\"T_a4687_row9_col1\" class=\"data row9 col1\" >0.816570</td>\n",
              "      <td id=\"T_a4687_row9_col2\" class=\"data row9 col2\" >0.814660</td>\n",
              "      <td id=\"T_a4687_row9_col3\" class=\"data row9 col3\" >0.908938</td>\n",
              "      <td id=\"T_a4687_row9_col4\" class=\"data row9 col4\" >0.691913</td>\n",
              "      <td id=\"T_a4687_row9_col5\" class=\"data row9 col5\" >0.785714</td>\n",
              "      <td id=\"T_a4687_row9_col6\" class=\"data row9 col6\" >0.812509</td>\n",
              "      <td id=\"T_a4687_row9_col7\" class=\"data row9 col7\" >0.185343</td>\n",
              "    </tr>\n",
              "  </tbody>\n",
              "</table>\n"
            ]
          },
          "metadata": {},
          "execution_count": 151
        }
      ],
      "source": [
        "\n",
        "models_compare.style.set_properties(**{'background-color': 'blue',\n",
        "                           'color': 'white'})\n"
      ]
    },
    {
      "cell_type": "markdown",
      "source": [
        "#**Compare Different Model with Hyperparameter Tuning**"
      ],
      "metadata": {
        "id": "PUpWe1SHv6XK"
      }
    },
    {
      "cell_type": "markdown",
      "metadata": {
        "id": "ElCjhGwsIfqo"
      },
      "source": [
        "**Multiple Classification Model List**"
      ]
    },
    {
      "cell_type": "code",
      "execution_count": null,
      "metadata": {
        "id": "LGsEY2ugv0ji"
      },
      "outputs": [],
      "source": [
        "# Different ML Models\n",
        "ml1=LogisticRegression(random_state=42)\n",
        "ml2=LinearSVC(random_state=42)\n",
        "ml3=SGDClassifier(random_state=42)\n",
        "ml4=KNeighborsClassifier()\n",
        "ml5=RandomForestClassifier(random_state=42)\n",
        "ml6=DecisionTreeClassifier(random_state=42)\n",
        "ml7=GradientBoostingClassifier(random_state=42)\n",
        "ml8=XGBClassifier(random_state=42)\n",
        "ml9=AdaBoostClassifier(random_state=42)\n",
        "ml10=LinearDiscriminantAnalysis()\n",
        "   "
      ]
    },
    {
      "cell_type": "markdown",
      "source": [
        "**Logistic Regression**"
      ],
      "metadata": {
        "id": "4x0eeqiquYfy"
      }
    },
    {
      "cell_type": "code",
      "execution_count": null,
      "metadata": {
        "id": "kkN1ooVRIsdj"
      },
      "outputs": [],
      "source": [
        "#Logistic Regression\n",
        "param1 = {}\n",
        "param1['classifier__C'] = [ 1, 2, 5]\n",
        "param1['classifier__solver']=['lbfgs', 'liblinear', 'saga']\n",
        "param1['classifier__penalty'] = ['l1', 'l2']\n",
        "param1['classifier__multi_class'] = ['ovr', 'multinomial', 'auto']\n",
        "param1['classifier'] = [ml1]\n",
        "pipeline = Pipeline([('classifier', ml1)])\n",
        "gs = GridSearchCV(pipeline, param1, cv=3, n_jobs=1, scoring='roc_auc').fit(X_us_train, y_us_train)\n"
      ]
    },
    {
      "cell_type": "code",
      "execution_count": null,
      "metadata": {
        "colab": {
          "base_uri": "https://localhost:8080/"
        },
        "id": "iy1aHH29IsES",
        "outputId": "5683d2af-f17f-4546-a78e-5266ec96def9"
      },
      "outputs": [
        {
          "output_type": "execute_result",
          "data": {
            "text/plain": [
              "{'classifier': LogisticRegression(C=5, multi_class='ovr', random_state=42),\n",
              " 'classifier__C': 5,\n",
              " 'classifier__multi_class': 'ovr',\n",
              " 'classifier__penalty': 'l2',\n",
              " 'classifier__solver': 'lbfgs'}"
            ]
          },
          "metadata": {},
          "execution_count": 132
        }
      ],
      "source": [
        "gs.best_params_"
      ]
    },
    {
      "cell_type": "code",
      "execution_count": null,
      "metadata": {
        "colab": {
          "base_uri": "https://localhost:8080/"
        },
        "id": "e3WcaD7qI7BB",
        "outputId": "43c793af-c1a4-4a3d-edd8-f08a298acc75"
      },
      "outputs": [
        {
          "output_type": "execute_result",
          "data": {
            "text/plain": [
              "0.9045032580688824"
            ]
          },
          "metadata": {},
          "execution_count": 133
        }
      ],
      "source": [
        "gs.best_score_"
      ]
    },
    {
      "cell_type": "markdown",
      "source": [
        "**SVM Linear**"
      ],
      "metadata": {
        "id": "MnYXPg7iufan"
      }
    },
    {
      "cell_type": "code",
      "execution_count": null,
      "metadata": {
        "id": "BU_LBQ80JYyR"
      },
      "outputs": [],
      "source": [
        "#SVM Linear\n",
        "param2 = {}\n",
        "param2['classifier__C'] = [10**-2, 10**-1, 10**0, 10**1, 10**2]\n",
        "param2['classifier__max_iter'] = [2500]\n",
        "param2['classifier__tol']=[1e-3, 1e-5, 1e-7]\n",
        "param2['classifier__multi_class'] = ['ovr', 'multinomial', 'auto']\n",
        "param2['classifier__loss'] = ['squared_hinge', 'crammer_singer','hinge' ]    \n",
        "param2['classifier'] = [ml2]\n",
        "pipeline = Pipeline([('classifier', ml2)])\n",
        "gs = GridSearchCV(pipeline, param2, cv=3, n_jobs=1, scoring='roc_auc').fit(X_us_train, y_us_train)"
      ]
    },
    {
      "cell_type": "code",
      "execution_count": null,
      "metadata": {
        "colab": {
          "base_uri": "https://localhost:8080/"
        },
        "id": "diTCdGwoJxa_",
        "outputId": "e3841e18-5b45-483c-e24b-53f1c258d18f"
      },
      "outputs": [
        {
          "output_type": "execute_result",
          "data": {
            "text/plain": [
              "{'classifier': LinearSVC(C=1, max_iter=2500, random_state=42, tol=0.001),\n",
              " 'classifier__C': 1,\n",
              " 'classifier__max_iter': 2500,\n",
              " 'classifier__tol': 0.001}"
            ]
          },
          "metadata": {},
          "execution_count": 125
        }
      ],
      "source": [
        "gs.best_params_"
      ]
    },
    {
      "cell_type": "code",
      "execution_count": null,
      "metadata": {
        "colab": {
          "base_uri": "https://localhost:8080/"
        },
        "id": "X13lCn9aMRpI",
        "outputId": "e428a22b-8030-490f-88c8-528b39081be4"
      },
      "outputs": [
        {
          "output_type": "execute_result",
          "data": {
            "text/plain": [
              "0.9041133387293258"
            ]
          },
          "metadata": {},
          "execution_count": 126
        }
      ],
      "source": [
        "gs.best_score_"
      ]
    },
    {
      "cell_type": "markdown",
      "source": [
        "**SGD**"
      ],
      "metadata": {
        "id": "CaeHidUEA2va"
      }
    },
    {
      "cell_type": "code",
      "source": [
        "scores= []\n",
        "for k in range(-1,2):\n",
        "\tsgd_val=SGDClassifier(n_jobs=k)\n",
        "\tsgd_val.fit(X_us_train, y_us_train)\n",
        "\ty_val = sgd_val.predict(X_us_test)\n",
        "\tscores.append (accuracy_score(y_us_test, y_val))\n",
        "import matplotlib.pyplot as plt\n",
        "plt.figure(figsize=(13,10))\n",
        "plt.plot(range(-1,2),scores)\n",
        "plt.xlabel ('Value of n_jobs for SGD')\n",
        "plt.ylabel('Testing Accuracy')"
      ],
      "metadata": {
        "colab": {
          "base_uri": "https://localhost:8080/",
          "height": 623
        },
        "id": "kOc0qxmGA2PE",
        "outputId": "44ec41df-d92f-4404-d99d-68a67f8a5e8a"
      },
      "execution_count": null,
      "outputs": [
        {
          "output_type": "execute_result",
          "data": {
            "text/plain": [
              "Text(0, 0.5, 'Testing Accuracy')"
            ]
          },
          "metadata": {},
          "execution_count": 13
        },
        {
          "output_type": "display_data",
          "data": {
            "text/plain": [
              "<Figure size 936x720 with 1 Axes>"
            ],
            "image/png": "[encoded data removed]"
          },
          "metadata": {
            "needs_background": "light"
          }
        }
      ]
    },
    {
      "cell_type": "code",
      "source": [
        "scores= []\n",
        "for k in range(500,2000,250):\n",
        "\tsgd_val=SGDClassifier(max_iter=k)\n",
        "\tsgd_val.fit(X_us_train, y_us_train)\n",
        "\ty_val = sgd_val.predict(X_us_test)\n",
        "\tscores.append (accuracy_score(y_us_test, y_val))\n",
        "import matplotlib.pyplot as plt\n",
        "plt.figure(figsize=(13,10))\n",
        "plt.plot(range(500,2000,250),scores)\n",
        "plt.xlabel ('Value of max_iter for SGD')\n",
        "plt.ylabel('Testing Accuracy')"
      ],
      "metadata": {
        "colab": {
          "base_uri": "https://localhost:8080/",
          "height": 623
        },
        "id": "AOPxfBDeMEY5",
        "outputId": "51053684-e2c4-455f-b868-1f842100b568"
      },
      "execution_count": null,
      "outputs": [
        {
          "output_type": "execute_result",
          "data": {
            "text/plain": [
              "Text(0, 0.5, 'Testing Accuracy')"
            ]
          },
          "metadata": {},
          "execution_count": 22
        },
        {
          "output_type": "display_data",
          "data": {
            "text/plain": [
              "<Figure size 936x720 with 1 Axes>"
            ],
            "image/png": "[encoded data removed]"
          },
          "metadata": {
            "needs_background": "light"
          }
        }
      ]
    },
    {
      "cell_type": "code",
      "execution_count": null,
      "metadata": {
        "id": "HE-3NfId2B4s"
      },
      "outputs": [],
      "source": [
        "#SGD\n",
        "param3 = {}\n",
        "param3['classifier__max_iter'] = [200,500,1000, 1200, 1500]\n",
        "param3['classifier__tol']=[1e-3, 1e-5]\n",
        "param3['classifier__penalty']=['l1', 'l2']\n",
        "param3['classifier__loss'] = ['hinge', 'log_loss', 'log', 'modified_huber','squared_hinge', 'perceptron', \n",
        "'squared_error', 'huber', 'epsilon_insensitive', 'squared_epsilon_insensitive']\n",
        "param3['classifier'] = [ml3]\n",
        "pipeline = Pipeline([('classifier', ml3)])\n"
      ]
    },
    {
      "cell_type": "code",
      "execution_count": null,
      "metadata": {
        "id": "tmU-rBRL2iv6",
        "colab": {
          "base_uri": "https://localhost:8080/"
        },
        "outputId": "ccb8622a-71d4-4906-d62e-9565bd926b97"
      },
      "outputs": [
        {
          "output_type": "execute_result",
          "data": {
            "text/plain": [
              "{'classifier': SGDClassifier(loss='log', max_iter=200, penalty='l1', random_state=42),\n",
              " 'classifier__loss': 'log',\n",
              " 'classifier__max_iter': 200,\n",
              " 'classifier__penalty': 'l1',\n",
              " 'classifier__tol': 0.001}"
            ]
          },
          "metadata": {},
          "execution_count": 26
        }
      ],
      "source": [
        "gs = GridSearchCV(pipeline, param3, cv=3, n_jobs=-1, scoring='roc_auc').fit(X_us_train, y_us_train)\n",
        "gs.best_params_"
      ]
    },
    {
      "cell_type": "code",
      "execution_count": null,
      "metadata": {
        "colab": {
          "base_uri": "https://localhost:8080/"
        },
        "id": "spYVCw2Q_Ifg",
        "outputId": "a4f8ecb7-b940-4772-d85f-0032dfb5cfd3"
      },
      "outputs": [
        {
          "output_type": "execute_result",
          "data": {
            "text/plain": [
              "{'classifier': SGDClassifier(loss='log', max_iter=200, penalty='l1', random_state=42),\n",
              " 'classifier__loss': 'log',\n",
              " 'classifier__max_iter': 200,\n",
              " 'classifier__penalty': 'l1',\n",
              " 'classifier__tol': 0.001}"
            ]
          },
          "metadata": {},
          "execution_count": 27
        }
      ],
      "source": [
        "gs.best_params_"
      ]
    },
    {
      "cell_type": "code",
      "execution_count": null,
      "metadata": {
        "colab": {
          "base_uri": "https://localhost:8080/"
        },
        "id": "hFvBrPgt8VGx",
        "outputId": "efd9bb92-9610-4471-904e-7a83e92162e9"
      },
      "outputs": [
        {
          "output_type": "execute_result",
          "data": {
            "text/plain": [
              "0.9045399587200187"
            ]
          },
          "metadata": {},
          "execution_count": 144
        }
      ],
      "source": [
        "gs.best_score_"
      ]
    },
    {
      "cell_type": "markdown",
      "source": [
        "**K-nearest Neighbouring **\n"
      ],
      "metadata": {
        "id": "Wa9-8cpuul6h"
      }
    },
    {
      "cell_type": "markdown",
      "metadata": {
        "id": "RD-K00rNhXGU"
      },
      "source": [
        "**k-value identification for KNN**"
      ]
    },
    {
      "cell_type": "code",
      "execution_count": null,
      "metadata": {
        "colab": {
          "base_uri": "https://localhost:8080/"
        },
        "id": "h1uKST9ghaGB",
        "outputId": "4cac9d30-943d-4ad1-dd5b-1203ab302466"
      },
      "outputs": [
        {
          "data": {
            "text/plain": [
              "array([0.8215918 , 0.83420016, 0.83483058, 0.82994484, 0.83278172,\n",
              "       0.82411348, 0.82631994, 0.81654846, 0.82064618, 0.81544523,\n",
              "       0.82237983, 0.81292356, 0.81875493, 0.81213554, 0.81828211,\n",
              "       0.81292356, 0.81749409, 0.81308117, 0.81891253, 0.81323877])"
            ]
          },
          "execution_count": 91,
          "metadata": {},
          "output_type": "execute_result"
        }
      ],
      "source": [
        "# calculating the accuracy of models with different values of k\n",
        "mean_acc = np.zeros(20)\n",
        "for i in range(1,21):\n",
        "    #Train Model and Predict  \n",
        "    knn = KNeighborsClassifier(n_neighbors = i).fit(X_us_train,y_us_train)\n",
        "    yhat= knn.predict(X_us_test)\n",
        "    mean_acc[i-1] = accuracy_score(y_us_test, yhat)\n",
        "\n",
        "mean_acc"
      ]
    },
    {
      "cell_type": "code",
      "execution_count": null,
      "metadata": {
        "colab": {
          "base_uri": "https://localhost:8080/",
          "height": 388
        },
        "id": "3hxwWdcHjLaN",
        "outputId": "456a7af2-95e7-4844-b0e3-267f23504d53"
      },
      "outputs": [
        {
          "data": {
            "image/png": "[encoded data removed]",
            "text/plain": [
              "<Figure size 720x432 with 1 Axes>"
            ]
          },
          "metadata": {},
          "output_type": "display_data"
        }
      ],
      "source": [
        "loc = np.arange(1,21,step=1.0)\n",
        "plt.figure(figsize = (10, 6))\n",
        "plt.plot(range(1,21), mean_acc)\n",
        "plt.xticks(loc)\n",
        "plt.xlabel('Number of Neighbors ')\n",
        "plt.ylabel('Accuracy')\n",
        "plt.show()"
      ]
    },
    {
      "cell_type": "code",
      "execution_count": null,
      "metadata": {
        "id": "gNflSPp6ASee"
      },
      "outputs": [],
      "source": [
        "#KNN\n",
        "param4 = {}\n",
        "param4['classifier__n_neighbors'] = [2]\n",
        "param4['classifier__weights'] = ['uniform','distance']\n",
        "param4['classifier__metric'] =['minkowski','euclidean','manhattan']\n",
        "param4['classifier'] = [ml4]\n",
        "pipeline = Pipeline([('classifier', ml4)])\n",
        "gs = GridSearchCV(pipeline, param4, cv=3, n_jobs=1, scoring='roc_auc').fit(X_us_train, y_us_train)"
      ]
    },
    {
      "cell_type": "code",
      "execution_count": null,
      "metadata": {
        "colab": {
          "base_uri": "https://localhost:8080/"
        },
        "id": "5axtnStECSNc",
        "outputId": "037130fd-1731-4072-d0a5-741589feae44"
      },
      "outputs": [
        {
          "data": {
            "text/plain": [
              "{'classifier': KNeighborsClassifier(n_neighbors=2),\n",
              " 'classifier__metric': 'minkowski',\n",
              " 'classifier__n_neighbors': 2,\n",
              " 'classifier__weights': 'uniform'}"
            ]
          },
          "execution_count": 106,
          "metadata": {},
          "output_type": "execute_result"
        }
      ],
      "source": [
        "gs.best_params_"
      ]
    },
    {
      "cell_type": "code",
      "execution_count": null,
      "metadata": {
        "colab": {
          "base_uri": "https://localhost:8080/"
        },
        "id": "a0mpMaSQB1UM",
        "outputId": "413913af-5084-4d5d-d69c-2c67dc691b2d"
      },
      "outputs": [
        {
          "data": {
            "text/plain": [
              "0.8623346597592031"
            ]
          },
          "execution_count": 107,
          "metadata": {},
          "output_type": "execute_result"
        }
      ],
      "source": [
        "gs.best_score_"
      ]
    },
    {
      "cell_type": "markdown",
      "source": [
        "**Random Forest Classifier**"
      ],
      "metadata": {
        "id": "XNuLOeJEuz0A"
      }
    },
    {
      "cell_type": "markdown",
      "source": [
        "**n_estimators for RandomForest**"
      ],
      "metadata": {
        "id": "C3gXwCzPGkqs"
      }
    },
    {
      "cell_type": "code",
      "source": [
        "scores= []\n",
        "for k in range(1,200):\n",
        "\trfc_val=RandomForestClassifier (n_estimators=k)\n",
        "\trfc_val.fit(X_us_train, y_us_train)\n",
        "\ty_us_val = rfc_val.predict(X_us_test)\n",
        "\tscores.append (accuracy_score(y_us_test, y_us_val))\n",
        "import matplotlib.pyplot as plt\n",
        "plt.figure(figsize=(13,10))\n",
        "plt.plot(range(1,200),scores)\n",
        "plt.xlabel ('Value of n_estimators for Random Forest Classifier')\n",
        "plt.ylabel('Testing Accuracy')"
      ],
      "metadata": {
        "colab": {
          "base_uri": "https://localhost:8080/",
          "height": 623
        },
        "id": "t1e9WAqqGtJG",
        "outputId": "bba9baf6-7364-48c0-93d1-356e9b34d7eb"
      },
      "execution_count": null,
      "outputs": [
        {
          "output_type": "execute_result",
          "data": {
            "text/plain": [
              "Text(0, 0.5, 'Testing Accuracy')"
            ]
          },
          "metadata": {},
          "execution_count": 14
        },
        {
          "output_type": "display_data",
          "data": {
            "text/plain": [
              "<Figure size 936x720 with 1 Axes>"
            ],
            "image/png": "[encoded data removed]"
          },
          "metadata": {
            "needs_background": "light"
          }
        }
      ]
    },
    {
      "cell_type": "code",
      "source": [
        "scores= []\n",
        "for k in range(10,25):\n",
        "\trfc_val=RandomForestClassifier (max_depth=k)\n",
        "\trfc_val.fit(X_us_train, y_us_train)\n",
        "\ty_us_val = rfc_val.predict(X_us_test)\n",
        "\tscores.append (accuracy_score(y_us_test, y_us_val))\n",
        "import matplotlib.pyplot as plt\n",
        "plt.figure(figsize=(13,10))\n",
        "plt.plot(range(10,25),scores)\n",
        "plt.xlabel ('Value of max_depth for Random Forest Classifier')\n",
        "plt.ylabel('Testing Accuracy')"
      ],
      "metadata": {
        "colab": {
          "base_uri": "https://localhost:8080/",
          "height": 623
        },
        "id": "b4F1sRqUYA9X",
        "outputId": "6d891499-6ba4-4692-e426-aec37d2e0336"
      },
      "execution_count": null,
      "outputs": [
        {
          "output_type": "execute_result",
          "data": {
            "text/plain": [
              "Text(0, 0.5, 'Testing Accuracy')"
            ]
          },
          "metadata": {},
          "execution_count": 32
        },
        {
          "output_type": "display_data",
          "data": {
            "text/plain": [
              "<Figure size 936x720 with 1 Axes>"
            ],
            "image/png": "[encoded data removed]"
          },
          "metadata": {
            "needs_background": "light"
          }
        }
      ]
    },
    {
      "cell_type": "code",
      "execution_count": null,
      "metadata": {
        "id": "cB-EvPZCCdl7"
      },
      "outputs": [],
      "source": [
        "#RandomForest\n",
        "param5 = {}\n",
        "param5['classifier__n_estimators'] = [10, 50, 100, 250]\n",
        "param5['classifier__max_depth'] = [5, 10, 20]\n",
        "param5['classifier__class_weight'] = [None, {0:1,1:5}, {0:1,1:10}]\n",
        "param5['classifier'] = [ml5]\n",
        "pipeline = Pipeline([('classifier', ml5)])\n",
        "gs = GridSearchCV(pipeline, param5, cv=3, n_jobs=1, scoring='roc_auc').fit(X_us_train, y_us_train)"
      ]
    },
    {
      "cell_type": "code",
      "execution_count": null,
      "metadata": {
        "colab": {
          "base_uri": "https://localhost:8080/"
        },
        "id": "zi_rV5WRCriP",
        "outputId": "b99575c8-4c5d-4e80-b1b0-a65b400714d4"
      },
      "outputs": [
        {
          "data": {
            "text/plain": [
              "{'classifier': RandomForestClassifier(max_depth=20, n_estimators=250, random_state=42),\n",
              " 'classifier__class_weight': None,\n",
              " 'classifier__max_depth': 20,\n",
              " 'classifier__n_estimators': 250}"
            ]
          },
          "execution_count": 28,
          "metadata": {},
          "output_type": "execute_result"
        }
      ],
      "source": [
        "gs.best_params_"
      ]
    },
    {
      "cell_type": "code",
      "execution_count": null,
      "metadata": {
        "colab": {
          "base_uri": "https://localhost:8080/"
        },
        "id": "3j3JzHWwCuV1",
        "outputId": "434f3563-15f5-4329-be44-8f148a224188"
      },
      "outputs": [
        {
          "data": {
            "text/plain": [
              "0.9414922152629961"
            ]
          },
          "execution_count": 29,
          "metadata": {},
          "output_type": "execute_result"
        }
      ],
      "source": [
        "gs.best_score_"
      ]
    },
    {
      "cell_type": "markdown",
      "source": [
        "**Decision Tree Classifier**"
      ],
      "metadata": {
        "id": "JOIHuvT0u5IC"
      }
    },
    {
      "cell_type": "code",
      "execution_count": null,
      "metadata": {
        "id": "GI5eUdnFFMzr"
      },
      "outputs": [],
      "source": [
        "#DecisionTree\n",
        "param6 = {}\n",
        "param6['classifier__max_depth'] = [5,10,25,None]\n",
        "param6['classifier__min_samples_split'] = [2,5,10]\n",
        "param6['classifier__class_weight'] = [None, {0:1,1:5}, {0:1,1:10}]\n",
        "param6['classifier'] = [ml6]\n",
        "pipeline = Pipeline([('classifier', ml6)])\n",
        "gs = GridSearchCV(pipeline, param6, cv=3, n_jobs=1, scoring='roc_auc').fit(X_us_train, y_us_train)"
      ]
    },
    {
      "cell_type": "code",
      "execution_count": null,
      "metadata": {
        "colab": {
          "base_uri": "https://localhost:8080/"
        },
        "id": "tdVSw_AfFhZD",
        "outputId": "b5a4ca0d-b2d3-44cf-d927-2c7ed151ea14"
      },
      "outputs": [
        {
          "data": {
            "text/plain": [
              "{'classifier': DecisionTreeClassifier(max_depth=25, min_samples_split=10, random_state=42),\n",
              " 'classifier__class_weight': None,\n",
              " 'classifier__max_depth': 25,\n",
              " 'classifier__min_samples_split': 10}"
            ]
          },
          "execution_count": 31,
          "metadata": {},
          "output_type": "execute_result"
        }
      ],
      "source": [
        "gs.best_params_"
      ]
    },
    {
      "cell_type": "code",
      "execution_count": null,
      "metadata": {
        "colab": {
          "base_uri": "https://localhost:8080/"
        },
        "id": "VAsYFeQFFlpA",
        "outputId": "f5b07473-88a3-4c6a-f985-28b4a56f85e0"
      },
      "outputs": [
        {
          "data": {
            "text/plain": [
              "0.9109624567689596"
            ]
          },
          "execution_count": 32,
          "metadata": {},
          "output_type": "execute_result"
        }
      ],
      "source": [
        "gs.best_score_"
      ]
    },
    {
      "cell_type": "markdown",
      "source": [
        "**Gradient Descent Classifier**"
      ],
      "metadata": {
        "id": "MalHjWsCvEVO"
      }
    },
    {
      "cell_type": "code",
      "execution_count": null,
      "metadata": {
        "id": "bY-1QIjzFpDE"
      },
      "outputs": [],
      "source": [
        "#Gradient Descent Classifier\n",
        "param7 = {}\n",
        "param7['classifier__n_estimators'] = [10, 50, 100, 200]\n",
        "param7['classifier__max_depth'] = [5, 10, 20]\n",
        "param7['classifier'] = [ml7]\n",
        "pipeline = Pipeline([('classifier', ml7)])\n",
        "gs = GridSearchCV(pipeline, param7, cv=3, n_jobs=1, scoring='roc_auc').fit(X_us_train, y_us_train)"
      ]
    },
    {
      "cell_type": "code",
      "execution_count": null,
      "metadata": {
        "colab": {
          "base_uri": "https://localhost:8080/"
        },
        "id": "fj2bBBQNF5Pk",
        "outputId": "71125fc2-3078-40d8-994e-f186a9468808"
      },
      "outputs": [
        {
          "data": {
            "text/plain": [
              "{'classifier': GradientBoostingClassifier(max_depth=5, n_estimators=200, random_state=42),\n",
              " 'classifier__max_depth': 5,\n",
              " 'classifier__n_estimators': 200}"
            ]
          },
          "execution_count": 34,
          "metadata": {},
          "output_type": "execute_result"
        }
      ],
      "source": [
        "gs.best_params_"
      ]
    },
    {
      "cell_type": "code",
      "execution_count": null,
      "metadata": {
        "colab": {
          "base_uri": "https://localhost:8080/"
        },
        "id": "kjhjqGflGAoB",
        "outputId": "f5583bf6-43bd-4870-96c3-26f008ff073c"
      },
      "outputs": [
        {
          "data": {
            "text/plain": [
              "0.9407995468462188"
            ]
          },
          "execution_count": 35,
          "metadata": {},
          "output_type": "execute_result"
        }
      ],
      "source": [
        "gs.best_score_"
      ]
    },
    {
      "cell_type": "markdown",
      "source": [
        "**XGBOOST**"
      ],
      "metadata": {
        "id": "nD7GOwSLvMRD"
      }
    },
    {
      "cell_type": "code",
      "execution_count": null,
      "metadata": {
        "id": "zsQIdB_MHYIR"
      },
      "outputs": [],
      "source": [
        "#XGBoost\n",
        "param8 = {}\n",
        "param8['classifier__max_depth'] = [5,6,8,10,None]\n",
        "param8['classifier__learning_rate'] = [ 0.1, 0.2, 0.3]\n",
        "param8['classifier__gamma']=[ 0.0, 0.1, 0.2]\n",
        "pipeline = Pipeline([('classifier', ml8)])\n",
        "gs = GridSearchCV(pipeline, param8, cv=3, n_jobs=1, scoring='roc_auc').fit(X_us_train, y_us_train)"
      ]
    },
    {
      "cell_type": "code",
      "execution_count": null,
      "metadata": {
        "colab": {
          "base_uri": "https://localhost:8080/"
        },
        "id": "WKVuiueJHxGv",
        "outputId": "3676dfc3-b56a-477a-cf26-705ecd8643c6"
      },
      "outputs": [
        {
          "data": {
            "text/plain": [
              "{'classifier__gamma': 0.0,\n",
              " 'classifier__learning_rate': 0.1,\n",
              " 'classifier__max_depth': 8}"
            ]
          },
          "execution_count": 37,
          "metadata": {},
          "output_type": "execute_result"
        }
      ],
      "source": [
        "gs.best_params_"
      ]
    },
    {
      "cell_type": "code",
      "execution_count": null,
      "metadata": {
        "colab": {
          "base_uri": "https://localhost:8080/"
        },
        "id": "uPSg0KimHzZK",
        "outputId": "0a5c6dfb-a0b8-4ecc-96e2-621720638bc6"
      },
      "outputs": [
        {
          "data": {
            "text/plain": [
              "0.9423200868039503"
            ]
          },
          "execution_count": 38,
          "metadata": {},
          "output_type": "execute_result"
        }
      ],
      "source": [
        "gs.best_score_"
      ]
    },
    {
      "cell_type": "markdown",
      "source": [
        "**AdaBoost**"
      ],
      "metadata": {
        "id": "0H5SIVqRvG2V"
      }
    },
    {
      "cell_type": "code",
      "execution_count": null,
      "metadata": {
        "id": "nRzkuLgHH6-I"
      },
      "outputs": [],
      "source": [
        "#AdaBoost\n",
        "param9 = {}\n",
        "param9['classifier__n_estimators'] = [10, 50, 70,100]\n",
        "param9['classifier__learning_rate']=[ 1, 2]\n",
        "pipeline = Pipeline([('classifier', ml9)])\n",
        "gs = GridSearchCV(pipeline, param9, cv=3, n_jobs=1, scoring='roc_auc').fit(X_us_train, y_us_train)"
      ]
    },
    {
      "cell_type": "code",
      "execution_count": null,
      "metadata": {
        "colab": {
          "base_uri": "https://localhost:8080/"
        },
        "id": "j60JhkFIIDvP",
        "outputId": "8d758ac4-0e94-4598-b3bf-35fbe7a15a8e"
      },
      "outputs": [
        {
          "data": {
            "text/plain": [
              "{'classifier__learning_rate': 1, 'classifier__n_estimators': 100}"
            ]
          },
          "execution_count": 50,
          "metadata": {},
          "output_type": "execute_result"
        }
      ],
      "source": [
        "gs.best_params_"
      ]
    },
    {
      "cell_type": "code",
      "execution_count": null,
      "metadata": {
        "colab": {
          "base_uri": "https://localhost:8080/"
        },
        "id": "ToQA5HBJIG-K",
        "outputId": "7147f4ed-a276-459f-cdc9-08ae7a239592"
      },
      "outputs": [
        {
          "data": {
            "text/plain": [
              "0.9323758376480221"
            ]
          },
          "execution_count": 51,
          "metadata": {},
          "output_type": "execute_result"
        }
      ],
      "source": [
        "gs.best_score_"
      ]
    },
    {
      "cell_type": "code",
      "execution_count": null,
      "metadata": {
        "id": "z3qw4fl2xOwn"
      },
      "outputs": [],
      "source": [
        "gs = GridSearchCV(pipeline, params, cv=3, n_jobs=-1, scoring='roc_auc').fit(X_us_train, y_us_train)"
      ]
    },
    {
      "cell_type": "code",
      "execution_count": null,
      "metadata": {
        "id": "PpiC9nyY5GNe"
      },
      "outputs": [],
      "source": [
        "# Best performing model and its corresponding hyperparameters\n",
        "gs.best_params_"
      ]
    },
    {
      "cell_type": "code",
      "execution_count": null,
      "metadata": {
        "id": "dqrpVO3pNY3Q"
      },
      "outputs": [],
      "source": [
        "gs.best_score_"
      ]
    },
    {
      "cell_type": "markdown",
      "source": [
        "**Multiple ML model Prepare**"
      ],
      "metadata": {
        "id": "o-JqUR86wAbQ"
      }
    },
    {
      "cell_type": "code",
      "execution_count": null,
      "metadata": {
        "id": "jZNYXt_POYZm"
      },
      "outputs": [],
      "source": [
        "models = [\n",
        "LogisticRegression(C=5, multi_class='ovr', random_state=42),\n",
        "\n",
        "LinearSVC(C=1, max_iter=2500, random_state=42, tol=0.001),\n",
        "\n",
        "SGDClassifier(loss='log', penalty='l1', random_state=42),\n",
        "\n",
        "KNeighborsClassifier(n_neighbors=2),\n",
        "\n",
        "RandomForestClassifier(max_depth=20, n_estimators=250, random_state=42),\n",
        "\n",
        "DecisionTreeClassifier(max_depth=25, min_samples_split=10, random_state=42),\n",
        "\n",
        "GradientBoostingClassifier(max_depth=5, n_estimators=200, random_state=42),\n",
        "\n",
        "XGBClassifier(random_state=42),\n",
        "\n",
        "AdaBoostClassifier(random_state=42),\n",
        "LinearDiscriminantAnalysis()\n",
        "   ]"
      ]
    },
    {
      "cell_type": "code",
      "execution_count": null,
      "metadata": {
        "id": "C9gFXQx3KOgK"
      },
      "outputs": [],
      "source": [
        "names =['Logestic Regression', 'SVMLinear', 'SGD', 'KNN', 'RandomForest', 'DecisionTree', 'GradientBoost', 'XGBOOST', 'ADABoost', 'LDA']  \n",
        "\n",
        "models_columns = []\n",
        "models_compare = pd.DataFrame(columns = models_columns)\n",
        "\n",
        "row_index = 0\n",
        "for models_name, ml in zip(names, models): \n",
        "    \n",
        "    ml.fit(X_us_train, y_us_train)\n",
        "    y_us_pred=ml.fit(X_us_train, y_us_train).predict(X_us_test)\n",
        "    fp, tp, tn = roc_curve(y_us_test, y_us_pred)\n",
        "    #models_name = ml.__class__.__name__\n",
        "    models_compare.loc[row_index,'Model Name'] = models_name\n",
        "    models_compare.loc[row_index, 'Train Accuracy'] = round(ml.score(X_us_train, y_us_train), 5)\n",
        "    models_compare.loc[row_index, 'Test Accuracy'] = round(ml.score(X_us_test, y_us_test), 5)\n",
        "    models_compare.loc[row_index, 'Precission'] = precision_score(y_us_test, y_us_pred)\n",
        "    models_compare.loc[row_index, 'Recall'] = recall_score(y_us_test, y_us_pred)\n",
        "    models_compare.loc[row_index, 'f1 Score']=f1_score(y_us_test, y_us_pred)\n",
        "    models_compare.loc[row_index, 'AUC'] = auc(fp, tp)\n",
        "    models_compare.loc[row_index, 'mean abs error']=mean_absolute_error(y_us_test, y_us_pred)\n",
        "    row_index+=1\n",
        "    \n",
        "models_table=models_compare.sort_values(by = ['Test Accuracy'], ascending = False, inplace = True)    "
      ]
    },
    {
      "cell_type": "code",
      "execution_count": null,
      "metadata": {
        "colab": {
          "base_uri": "https://localhost:8080/",
          "height": 363
        },
        "id": "MRUIpQvTOUKd",
        "outputId": "91fe5f28-493f-405f-fe7d-07c860987788"
      },
      "outputs": [
        {
          "output_type": "execute_result",
          "data": {
            "text/plain": [
              "            Model Name  Train Accuracy  Test Accuracy  Precission    Recall  \\\n",
              "6        GradientBoost         0.90444        0.89567    0.936966  0.844352   \n",
              "4         RandomForest         0.91634        0.89456    0.956360  0.822850   \n",
              "5         DecisionTree         0.91350        0.88274    0.938609  0.814506   \n",
              "7              XGBOOST         0.88092        0.87801    0.931149  0.811617   \n",
              "8             ADABoost         0.87512        0.87502    0.914377  0.822529   \n",
              "2                  SGD         0.85313        0.85028    0.920419  0.760911   \n",
              "1            SVMLinear         0.85325        0.84996    0.903130  0.777920   \n",
              "0  Logestic Regression         0.85310        0.84965    0.899483  0.781130   \n",
              "3                  KNN         0.89557        0.83420    0.954626  0.695443   \n",
              "9                  LDA         0.81657        0.81466    0.908938  0.691913   \n",
              "\n",
              "   f1 Score       AUC  mean abs error  \n",
              "6  0.888251  0.894768        0.104334  \n",
              "4  0.884595  0.893308        0.105437  \n",
              "5  0.872165  0.881548        0.117258  \n",
              "7  0.867284  0.876852        0.121986  \n",
              "8  0.866025  0.874101        0.124980  \n",
              "2  0.833099  0.848712        0.149724  \n",
              "1  0.835862  0.848700        0.150039  \n",
              "0  0.836139  0.848447        0.150355  \n",
              "3  0.804679  0.831772        0.165800  \n",
              "9  0.785714  0.812509        0.185343  "
            ],
            "text/html": [
              "\n",
              "  <div id=\"df-6b5512b7-6b4c-4d82-94a1-215f7720b588\">\n",
              "    <div class=\"colab-df-container\">\n",
              "      <div>\n",
              "<style scoped>\n",
              "    .dataframe tbody tr th:only-of-type {\n",
              "        vertical-align: middle;\n",
              "    }\n",
              "\n",
              "    .dataframe tbody tr th {\n",
              "        vertical-align: top;\n",
              "    }\n",
              "\n",
              "    .dataframe thead th {\n",
              "        text-align: right;\n",
              "    }\n",
              "</style>\n",
              "<table border=\"1\" class=\"dataframe\">\n",
              "  <thead>\n",
              "    <tr style=\"text-align: right;\">\n",
              "      <th></th>\n",
              "      <th>Model Name</th>\n",
              "      <th>Train Accuracy</th>\n",
              "      <th>Test Accuracy</th>\n",
              "      <th>Precission</th>\n",
              "      <th>Recall</th>\n",
              "      <th>f1 Score</th>\n",
              "      <th>AUC</th>\n",
              "      <th>mean abs error</th>\n",
              "    </tr>\n",
              "  </thead>\n",
              "  <tbody>\n",
              "    <tr>\n",
              "      <th>6</th>\n",
              "      <td>GradientBoost</td>\n",
              "      <td>0.90444</td>\n",
              "      <td>0.89567</td>\n",
              "      <td>0.936966</td>\n",
              "      <td>0.844352</td>\n",
              "      <td>0.888251</td>\n",
              "      <td>0.894768</td>\n",
              "      <td>0.104334</td>\n",
              "    </tr>\n",
              "    <tr>\n",
              "      <th>4</th>\n",
              "      <td>RandomForest</td>\n",
              "      <td>0.91634</td>\n",
              "      <td>0.89456</td>\n",
              "      <td>0.956360</td>\n",
              "      <td>0.822850</td>\n",
              "      <td>0.884595</td>\n",
              "      <td>0.893308</td>\n",
              "      <td>0.105437</td>\n",
              "    </tr>\n",
              "    <tr>\n",
              "      <th>5</th>\n",
              "      <td>DecisionTree</td>\n",
              "      <td>0.91350</td>\n",
              "      <td>0.88274</td>\n",
              "      <td>0.938609</td>\n",
              "      <td>0.814506</td>\n",
              "      <td>0.872165</td>\n",
              "      <td>0.881548</td>\n",
              "      <td>0.117258</td>\n",
              "    </tr>\n",
              "    <tr>\n",
              "      <th>7</th>\n",
              "      <td>XGBOOST</td>\n",
              "      <td>0.88092</td>\n",
              "      <td>0.87801</td>\n",
              "      <td>0.931149</td>\n",
              "      <td>0.811617</td>\n",
              "      <td>0.867284</td>\n",
              "      <td>0.876852</td>\n",
              "      <td>0.121986</td>\n",
              "    </tr>\n",
              "    <tr>\n",
              "      <th>8</th>\n",
              "      <td>ADABoost</td>\n",
              "      <td>0.87512</td>\n",
              "      <td>0.87502</td>\n",
              "      <td>0.914377</td>\n",
              "      <td>0.822529</td>\n",
              "      <td>0.866025</td>\n",
              "      <td>0.874101</td>\n",
              "      <td>0.124980</td>\n",
              "    </tr>\n",
              "    <tr>\n",
              "      <th>2</th>\n",
              "      <td>SGD</td>\n",
              "      <td>0.85313</td>\n",
              "      <td>0.85028</td>\n",
              "      <td>0.920419</td>\n",
              "      <td>0.760911</td>\n",
              "      <td>0.833099</td>\n",
              "      <td>0.848712</td>\n",
              "      <td>0.149724</td>\n",
              "    </tr>\n",
              "    <tr>\n",
              "      <th>1</th>\n",
              "      <td>SVMLinear</td>\n",
              "      <td>0.85325</td>\n",
              "      <td>0.84996</td>\n",
              "      <td>0.903130</td>\n",
              "      <td>0.777920</td>\n",
              "      <td>0.835862</td>\n",
              "      <td>0.848700</td>\n",
              "      <td>0.150039</td>\n",
              "    </tr>\n",
              "    <tr>\n",
              "      <th>0</th>\n",
              "      <td>Logestic Regression</td>\n",
              "      <td>0.85310</td>\n",
              "      <td>0.84965</td>\n",
              "      <td>0.899483</td>\n",
              "      <td>0.781130</td>\n",
              "      <td>0.836139</td>\n",
              "      <td>0.848447</td>\n",
              "      <td>0.150355</td>\n",
              "    </tr>\n",
              "    <tr>\n",
              "      <th>3</th>\n",
              "      <td>KNN</td>\n",
              "      <td>0.89557</td>\n",
              "      <td>0.83420</td>\n",
              "      <td>0.954626</td>\n",
              "      <td>0.695443</td>\n",
              "      <td>0.804679</td>\n",
              "      <td>0.831772</td>\n",
              "      <td>0.165800</td>\n",
              "    </tr>\n",
              "    <tr>\n",
              "      <th>9</th>\n",
              "      <td>LDA</td>\n",
              "      <td>0.81657</td>\n",
              "      <td>0.81466</td>\n",
              "      <td>0.908938</td>\n",
              "      <td>0.691913</td>\n",
              "      <td>0.785714</td>\n",
              "      <td>0.812509</td>\n",
              "      <td>0.185343</td>\n",
              "    </tr>\n",
              "  </tbody>\n",
              "</table>\n",
              "</div>\n",
              "      <button class=\"colab-df-convert\" onclick=\"convertToInteractive('df-6b5512b7-6b4c-4d82-94a1-215f7720b588')\"\n",
              "              title=\"Convert this dataframe to an interactive table.\"\n",
              "              style=\"display:none;\">\n",
              "        \n",
              "  <svg xmlns=\"http://www.w3.org/2000/svg\" height=\"24px\"viewBox=\"0 0 24 24\"\n",
              "       width=\"24px\">\n",
              "    <path d=\"M0 0h24v24H0V0z\" fill=\"none\"/>\n",
              "    <path d=\"M18.56 5.44l.94 2.06.94-2.06 2.06-.94-2.06-.94-.94-2.06-.94 2.06-2.06.94zm-11 1L8.5 8.5l.94-2.06 2.06-.94-2.06-.94L8.5 2.5l-.94 2.06-2.06.94zm10 10l.94 2.06.94-2.06 2.06-.94-2.06-.94-.94-2.06-.94 2.06-2.06.94z\"/><path d=\"M17.41 7.96l-1.37-1.37c-.4-.4-.92-.59-1.43-.59-.52 0-1.04.2-1.43.59L10.3 9.45l-7.72 7.72c-.78.78-.78 2.05 0 2.83L4 21.41c.39.39.9.59 1.41.59.51 0 1.02-.2 1.41-.59l7.78-7.78 2.81-2.81c.8-.78.8-2.07 0-2.86zM5.41 20L4 18.59l7.72-7.72 1.47 1.35L5.41 20z\"/>\n",
              "  </svg>\n",
              "      </button>\n",
              "      \n",
              "  <style>\n",
              "    .colab-df-container {\n",
              "      display:flex;\n",
              "      flex-wrap:wrap;\n",
              "      gap: 12px;\n",
              "    }\n",
              "\n",
              "    .colab-df-convert {\n",
              "      background-color: #E8F0FE;\n",
              "      border: none;\n",
              "      border-radius: 50%;\n",
              "      cursor: pointer;\n",
              "      display: none;\n",
              "      fill: #1967D2;\n",
              "      height: 32px;\n",
              "      padding: 0 0 0 0;\n",
              "      width: 32px;\n",
              "    }\n",
              "\n",
              "    .colab-df-convert:hover {\n",
              "      background-color: #E2EBFA;\n",
              "      box-shadow: 0px 1px 2px rgba(60, 64, 67, 0.3), 0px 1px 3px 1px rgba(60, 64, 67, 0.15);\n",
              "      fill: #174EA6;\n",
              "    }\n",
              "\n",
              "    [theme=dark] .colab-df-convert {\n",
              "      background-color: #3B4455;\n",
              "      fill: #D2E3FC;\n",
              "    }\n",
              "\n",
              "    [theme=dark] .colab-df-convert:hover {\n",
              "      background-color: #434B5C;\n",
              "      box-shadow: 0px 1px 3px 1px rgba(0, 0, 0, 0.15);\n",
              "      filter: drop-shadow(0px 1px 2px rgba(0, 0, 0, 0.3));\n",
              "      fill: #FFFFFF;\n",
              "    }\n",
              "  </style>\n",
              "\n",
              "      <script>\n",
              "        const buttonEl =\n",
              "          document.querySelector('#df-6b5512b7-6b4c-4d82-94a1-215f7720b588 button.colab-df-convert');\n",
              "        buttonEl.style.display =\n",
              "          google.colab.kernel.accessAllowed ? 'block' : 'none';\n",
              "\n",
              "        async function convertToInteractive(key) {\n",
              "          const element = document.querySelector('#df-6b5512b7-6b4c-4d82-94a1-215f7720b588');\n",
              "          const dataTable =\n",
              "            await google.colab.kernel.invokeFunction('convertToInteractive',\n",
              "                                                     [key], {});\n",
              "          if (!dataTable) return;\n",
              "\n",
              "          const docLinkHtml = 'Like what you see? Visit the ' +\n",
              "            '<a target=\"_blank\" href=https://colab.research.google.com/notebooks/data_table.ipynb>data table notebook</a>'\n",
              "            + ' to learn more about interactive tables.';\n",
              "          element.innerHTML = '';\n",
              "          dataTable['output_type'] = 'display_data';\n",
              "          await google.colab.output.renderOutput(dataTable, element);\n",
              "          const docLink = document.createElement('div');\n",
              "          docLink.innerHTML = docLinkHtml;\n",
              "          element.appendChild(docLink);\n",
              "        }\n",
              "      </script>\n",
              "    </div>\n",
              "  </div>\n",
              "  "
            ]
          },
          "metadata": {},
          "execution_count": 31
        }
      ],
      "source": [
        "models_compare.sort_values(by = ['Test Accuracy'], ascending = False, inplace = True) \n",
        "\n",
        "models_compare"
      ]
    }
  ],
  "metadata": {
    "colab": {
      "name": "hyper_para_multiple_ml_undersample_heart_disease.ipynb",
      "provenance": [],
      "collapsed_sections": [
        "rvY5nKO09m_J"
      ],
      "authorship_tag": "ABX9TyOi/rImG1w8KZawiroxSkx6",
      "include_colab_link": true
    },
    "kernelspec": {
      "display_name": "Python 3",
      "name": "python3"
    },
    "language_info": {
      "name": "python"
    }
  },
  "nbformat": 4,
  "nbformat_minor": 0
}