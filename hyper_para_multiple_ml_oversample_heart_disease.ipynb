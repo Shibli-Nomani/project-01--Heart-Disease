{
  "cells": [
    {
      "cell_type": "markdown",
      "metadata": {
        "id": "view-in-github",
        "colab_type": "text"
      },
      "source": [
        "<a href=\"https://colab.research.google.com/github/Shibli-Nomani/project-01--Heart-Disease/blob/main/hyper_para_multiple_ml_oversample_heart_disease.ipynb\" target=\"_parent\"><img src=\"https://colab.research.google.com/assets/colab-badge.svg\" alt=\"Open In Colab\"/></a>"
      ]
    },
    {
      "cell_type": "code",
      "execution_count": 2,
      "metadata": {
        "colab": {
          "base_uri": "https://localhost:8080/"
        },
        "id": "0jUnxWJMvfJs",
        "outputId": "2b60e75e-2b95-412a-b466-a123ebf6531b"
      },
      "outputs": [
        {
          "output_type": "stream",
          "name": "stdout",
          "text": [
            "Mounted at /content/gdrive\n"
          ]
        }
      ],
      "source": [
        "from google.colab import drive\n",
        "drive.mount('/content/gdrive')\n",
        "import warnings\n",
        "warnings.filterwarnings(\"ignore\")"
      ]
    },
    {
      "cell_type": "code",
      "execution_count": 3,
      "metadata": {
        "colab": {
          "base_uri": "https://localhost:8080/",
          "height": 270
        },
        "id": "yORNHZSkDihY",
        "outputId": "399437d9-539b-4c3d-8992-214edf0b3990"
      },
      "outputs": [
        {
          "output_type": "execute_result",
          "data": {
            "text/plain": [
              "   HeartDisease       BMI  Smoking  AlcoholDrinking  Stroke  PhysicalHealth  \\\n",
              "0             0 -1.422409        0                0       1       -0.366034   \n",
              "1             0 -0.653422        0                0       0       -0.366034   \n",
              "2             0  0.822955        1                0       0        4.347674   \n",
              "3             0 -0.208323        0                0       0       -0.366034   \n",
              "4             0  2.621233        0                0       0       -0.366034   \n",
              "\n",
              "   MentalHealth  DiffWalking  Sex  AgeCategory  Race  Diabetic  \\\n",
              "0     -0.460504            0    0           12     5         0   \n",
              "1     -0.460504            0    0           11     5         0   \n",
              "2     -0.460504            1    0           12     5         2   \n",
              "3     -0.460504            0    0           12     5         1   \n",
              "4     -0.460504            1    1            9     5         0   \n",
              "\n",
              "   PhysicalActivity  GenHealth  SleepTime  Asthma  KidneyDisease  SkinCancer  \n",
              "0                 1          4  -0.142328       0              0           0  \n",
              "1                 0          2  -1.033281       0              0           1  \n",
              "2                 0          2   1.639578       1              0           0  \n",
              "3                 0          1  -1.924234       0              1           0  \n",
              "4                 1          2   2.530531       0              0           0  "
            ],
            "text/html": [
              "\n",
              "  <div id=\"df-194aa760-dceb-47d9-8754-3661a61db183\">\n",
              "    <div class=\"colab-df-container\">\n",
              "      <div>\n",
              "<style scoped>\n",
              "    .dataframe tbody tr th:only-of-type {\n",
              "        vertical-align: middle;\n",
              "    }\n",
              "\n",
              "    .dataframe tbody tr th {\n",
              "        vertical-align: top;\n",
              "    }\n",
              "\n",
              "    .dataframe thead th {\n",
              "        text-align: right;\n",
              "    }\n",
              "</style>\n",
              "<table border=\"1\" class=\"dataframe\">\n",
              "  <thead>\n",
              "    <tr style=\"text-align: right;\">\n",
              "      <th></th>\n",
              "      <th>HeartDisease</th>\n",
              "      <th>BMI</th>\n",
              "      <th>Smoking</th>\n",
              "      <th>AlcoholDrinking</th>\n",
              "      <th>Stroke</th>\n",
              "      <th>PhysicalHealth</th>\n",
              "      <th>MentalHealth</th>\n",
              "      <th>DiffWalking</th>\n",
              "      <th>Sex</th>\n",
              "      <th>AgeCategory</th>\n",
              "      <th>Race</th>\n",
              "      <th>Diabetic</th>\n",
              "      <th>PhysicalActivity</th>\n",
              "      <th>GenHealth</th>\n",
              "      <th>SleepTime</th>\n",
              "      <th>Asthma</th>\n",
              "      <th>KidneyDisease</th>\n",
              "      <th>SkinCancer</th>\n",
              "    </tr>\n",
              "  </thead>\n",
              "  <tbody>\n",
              "    <tr>\n",
              "      <th>0</th>\n",
              "      <td>0</td>\n",
              "      <td>-1.422409</td>\n",
              "      <td>0</td>\n",
              "      <td>0</td>\n",
              "      <td>1</td>\n",
              "      <td>-0.366034</td>\n",
              "      <td>-0.460504</td>\n",
              "      <td>0</td>\n",
              "      <td>0</td>\n",
              "      <td>12</td>\n",
              "      <td>5</td>\n",
              "      <td>0</td>\n",
              "      <td>1</td>\n",
              "      <td>4</td>\n",
              "      <td>-0.142328</td>\n",
              "      <td>0</td>\n",
              "      <td>0</td>\n",
              "      <td>0</td>\n",
              "    </tr>\n",
              "    <tr>\n",
              "      <th>1</th>\n",
              "      <td>0</td>\n",
              "      <td>-0.653422</td>\n",
              "      <td>0</td>\n",
              "      <td>0</td>\n",
              "      <td>0</td>\n",
              "      <td>-0.366034</td>\n",
              "      <td>-0.460504</td>\n",
              "      <td>0</td>\n",
              "      <td>0</td>\n",
              "      <td>11</td>\n",
              "      <td>5</td>\n",
              "      <td>0</td>\n",
              "      <td>0</td>\n",
              "      <td>2</td>\n",
              "      <td>-1.033281</td>\n",
              "      <td>0</td>\n",
              "      <td>0</td>\n",
              "      <td>1</td>\n",
              "    </tr>\n",
              "    <tr>\n",
              "      <th>2</th>\n",
              "      <td>0</td>\n",
              "      <td>0.822955</td>\n",
              "      <td>1</td>\n",
              "      <td>0</td>\n",
              "      <td>0</td>\n",
              "      <td>4.347674</td>\n",
              "      <td>-0.460504</td>\n",
              "      <td>1</td>\n",
              "      <td>0</td>\n",
              "      <td>12</td>\n",
              "      <td>5</td>\n",
              "      <td>2</td>\n",
              "      <td>0</td>\n",
              "      <td>2</td>\n",
              "      <td>1.639578</td>\n",
              "      <td>1</td>\n",
              "      <td>0</td>\n",
              "      <td>0</td>\n",
              "    </tr>\n",
              "    <tr>\n",
              "      <th>3</th>\n",
              "      <td>0</td>\n",
              "      <td>-0.208323</td>\n",
              "      <td>0</td>\n",
              "      <td>0</td>\n",
              "      <td>0</td>\n",
              "      <td>-0.366034</td>\n",
              "      <td>-0.460504</td>\n",
              "      <td>0</td>\n",
              "      <td>0</td>\n",
              "      <td>12</td>\n",
              "      <td>5</td>\n",
              "      <td>1</td>\n",
              "      <td>0</td>\n",
              "      <td>1</td>\n",
              "      <td>-1.924234</td>\n",
              "      <td>0</td>\n",
              "      <td>1</td>\n",
              "      <td>0</td>\n",
              "    </tr>\n",
              "    <tr>\n",
              "      <th>4</th>\n",
              "      <td>0</td>\n",
              "      <td>2.621233</td>\n",
              "      <td>0</td>\n",
              "      <td>0</td>\n",
              "      <td>0</td>\n",
              "      <td>-0.366034</td>\n",
              "      <td>-0.460504</td>\n",
              "      <td>1</td>\n",
              "      <td>1</td>\n",
              "      <td>9</td>\n",
              "      <td>5</td>\n",
              "      <td>0</td>\n",
              "      <td>1</td>\n",
              "      <td>2</td>\n",
              "      <td>2.530531</td>\n",
              "      <td>0</td>\n",
              "      <td>0</td>\n",
              "      <td>0</td>\n",
              "    </tr>\n",
              "  </tbody>\n",
              "</table>\n",
              "</div>\n",
              "      <button class=\"colab-df-convert\" onclick=\"convertToInteractive('df-194aa760-dceb-47d9-8754-3661a61db183')\"\n",
              "              title=\"Convert this dataframe to an interactive table.\"\n",
              "              style=\"display:none;\">\n",
              "        \n",
              "  <svg xmlns=\"http://www.w3.org/2000/svg\" height=\"24px\"viewBox=\"0 0 24 24\"\n",
              "       width=\"24px\">\n",
              "    <path d=\"M0 0h24v24H0V0z\" fill=\"none\"/>\n",
              "    <path d=\"M18.56 5.44l.94 2.06.94-2.06 2.06-.94-2.06-.94-.94-2.06-.94 2.06-2.06.94zm-11 1L8.5 8.5l.94-2.06 2.06-.94-2.06-.94L8.5 2.5l-.94 2.06-2.06.94zm10 10l.94 2.06.94-2.06 2.06-.94-2.06-.94-.94-2.06-.94 2.06-2.06.94z\"/><path d=\"M17.41 7.96l-1.37-1.37c-.4-.4-.92-.59-1.43-.59-.52 0-1.04.2-1.43.59L10.3 9.45l-7.72 7.72c-.78.78-.78 2.05 0 2.83L4 21.41c.39.39.9.59 1.41.59.51 0 1.02-.2 1.41-.59l7.78-7.78 2.81-2.81c.8-.78.8-2.07 0-2.86zM5.41 20L4 18.59l7.72-7.72 1.47 1.35L5.41 20z\"/>\n",
              "  </svg>\n",
              "      </button>\n",
              "      \n",
              "  <style>\n",
              "    .colab-df-container {\n",
              "      display:flex;\n",
              "      flex-wrap:wrap;\n",
              "      gap: 12px;\n",
              "    }\n",
              "\n",
              "    .colab-df-convert {\n",
              "      background-color: #E8F0FE;\n",
              "      border: none;\n",
              "      border-radius: 50%;\n",
              "      cursor: pointer;\n",
              "      display: none;\n",
              "      fill: #1967D2;\n",
              "      height: 32px;\n",
              "      padding: 0 0 0 0;\n",
              "      width: 32px;\n",
              "    }\n",
              "\n",
              "    .colab-df-convert:hover {\n",
              "      background-color: #E2EBFA;\n",
              "      box-shadow: 0px 1px 2px rgba(60, 64, 67, 0.3), 0px 1px 3px 1px rgba(60, 64, 67, 0.15);\n",
              "      fill: #174EA6;\n",
              "    }\n",
              "\n",
              "    [theme=dark] .colab-df-convert {\n",
              "      background-color: #3B4455;\n",
              "      fill: #D2E3FC;\n",
              "    }\n",
              "\n",
              "    [theme=dark] .colab-df-convert:hover {\n",
              "      background-color: #434B5C;\n",
              "      box-shadow: 0px 1px 3px 1px rgba(0, 0, 0, 0.15);\n",
              "      filter: drop-shadow(0px 1px 2px rgba(0, 0, 0, 0.3));\n",
              "      fill: #FFFFFF;\n",
              "    }\n",
              "  </style>\n",
              "\n",
              "      <script>\n",
              "        const buttonEl =\n",
              "          document.querySelector('#df-194aa760-dceb-47d9-8754-3661a61db183 button.colab-df-convert');\n",
              "        buttonEl.style.display =\n",
              "          google.colab.kernel.accessAllowed ? 'block' : 'none';\n",
              "\n",
              "        async function convertToInteractive(key) {\n",
              "          const element = document.querySelector('#df-194aa760-dceb-47d9-8754-3661a61db183');\n",
              "          const dataTable =\n",
              "            await google.colab.kernel.invokeFunction('convertToInteractive',\n",
              "                                                     [key], {});\n",
              "          if (!dataTable) return;\n",
              "\n",
              "          const docLinkHtml = 'Like what you see? Visit the ' +\n",
              "            '<a target=\"_blank\" href=https://colab.research.google.com/notebooks/data_table.ipynb>data table notebook</a>'\n",
              "            + ' to learn more about interactive tables.';\n",
              "          element.innerHTML = '';\n",
              "          dataTable['output_type'] = 'display_data';\n",
              "          await google.colab.output.renderOutput(dataTable, element);\n",
              "          const docLink = document.createElement('div');\n",
              "          docLink.innerHTML = docLinkHtml;\n",
              "          element.appendChild(docLink);\n",
              "        }\n",
              "      </script>\n",
              "    </div>\n",
              "  </div>\n",
              "  "
            ]
          },
          "metadata": {},
          "execution_count": 3
        }
      ],
      "source": [
        "import pandas as pd\n",
        "import numpy as np\n",
        "import seaborn as sns\n",
        "import matplotlib.pyplot as plt\n",
        "%matplotlib inline\n",
        "path='/content/gdrive/MyDrive/Final Project/train.csv'\n",
        "df=pd.read_csv(path)\n",
        "df.head(5)"
      ]
    },
    {
      "cell_type": "code",
      "execution_count": 4,
      "metadata": {
        "colab": {
          "base_uri": "https://localhost:8080/",
          "height": 206
        },
        "id": "FvNNILw3I_8m",
        "outputId": "0f29ec21-6861-411c-cf98-381df16f6b1c"
      },
      "outputs": [
        {
          "output_type": "execute_result",
          "data": {
            "text/plain": [
              "        BMI  Smoking  AlcoholDrinking  Stroke  PhysicalHealth  MentalHealth  \\\n",
              "0 -1.422409        0                0       1       -0.366034     -0.460504   \n",
              "1 -0.653422        0                0       0       -0.366034     -0.460504   \n",
              "2  0.822955        1                0       0        4.347674     -0.460504   \n",
              "3 -0.208323        0                0       0       -0.366034     -0.460504   \n",
              "4  2.621233        0                0       0       -0.366034     -0.460504   \n",
              "\n",
              "   DiffWalking  Sex  AgeCategory  Race  Diabetic  PhysicalActivity  GenHealth  \\\n",
              "0            0    0           12     5         0                 1          4   \n",
              "1            0    0           11     5         0                 0          2   \n",
              "2            1    0           12     5         2                 0          2   \n",
              "3            0    0           12     5         1                 0          1   \n",
              "4            1    1            9     5         0                 1          2   \n",
              "\n",
              "   SleepTime  Asthma  KidneyDisease  SkinCancer  \n",
              "0  -0.142328       0              0           0  \n",
              "1  -1.033281       0              0           1  \n",
              "2   1.639578       1              0           0  \n",
              "3  -1.924234       0              1           0  \n",
              "4   2.530531       0              0           0  "
            ],
            "text/html": [
              "\n",
              "  <div id=\"df-c10512e7-f635-483e-88e9-a1f5baae750d\">\n",
              "    <div class=\"colab-df-container\">\n",
              "      <div>\n",
              "<style scoped>\n",
              "    .dataframe tbody tr th:only-of-type {\n",
              "        vertical-align: middle;\n",
              "    }\n",
              "\n",
              "    .dataframe tbody tr th {\n",
              "        vertical-align: top;\n",
              "    }\n",
              "\n",
              "    .dataframe thead th {\n",
              "        text-align: right;\n",
              "    }\n",
              "</style>\n",
              "<table border=\"1\" class=\"dataframe\">\n",
              "  <thead>\n",
              "    <tr style=\"text-align: right;\">\n",
              "      <th></th>\n",
              "      <th>BMI</th>\n",
              "      <th>Smoking</th>\n",
              "      <th>AlcoholDrinking</th>\n",
              "      <th>Stroke</th>\n",
              "      <th>PhysicalHealth</th>\n",
              "      <th>MentalHealth</th>\n",
              "      <th>DiffWalking</th>\n",
              "      <th>Sex</th>\n",
              "      <th>AgeCategory</th>\n",
              "      <th>Race</th>\n",
              "      <th>Diabetic</th>\n",
              "      <th>PhysicalActivity</th>\n",
              "      <th>GenHealth</th>\n",
              "      <th>SleepTime</th>\n",
              "      <th>Asthma</th>\n",
              "      <th>KidneyDisease</th>\n",
              "      <th>SkinCancer</th>\n",
              "    </tr>\n",
              "  </thead>\n",
              "  <tbody>\n",
              "    <tr>\n",
              "      <th>0</th>\n",
              "      <td>-1.422409</td>\n",
              "      <td>0</td>\n",
              "      <td>0</td>\n",
              "      <td>1</td>\n",
              "      <td>-0.366034</td>\n",
              "      <td>-0.460504</td>\n",
              "      <td>0</td>\n",
              "      <td>0</td>\n",
              "      <td>12</td>\n",
              "      <td>5</td>\n",
              "      <td>0</td>\n",
              "      <td>1</td>\n",
              "      <td>4</td>\n",
              "      <td>-0.142328</td>\n",
              "      <td>0</td>\n",
              "      <td>0</td>\n",
              "      <td>0</td>\n",
              "    </tr>\n",
              "    <tr>\n",
              "      <th>1</th>\n",
              "      <td>-0.653422</td>\n",
              "      <td>0</td>\n",
              "      <td>0</td>\n",
              "      <td>0</td>\n",
              "      <td>-0.366034</td>\n",
              "      <td>-0.460504</td>\n",
              "      <td>0</td>\n",
              "      <td>0</td>\n",
              "      <td>11</td>\n",
              "      <td>5</td>\n",
              "      <td>0</td>\n",
              "      <td>0</td>\n",
              "      <td>2</td>\n",
              "      <td>-1.033281</td>\n",
              "      <td>0</td>\n",
              "      <td>0</td>\n",
              "      <td>1</td>\n",
              "    </tr>\n",
              "    <tr>\n",
              "      <th>2</th>\n",
              "      <td>0.822955</td>\n",
              "      <td>1</td>\n",
              "      <td>0</td>\n",
              "      <td>0</td>\n",
              "      <td>4.347674</td>\n",
              "      <td>-0.460504</td>\n",
              "      <td>1</td>\n",
              "      <td>0</td>\n",
              "      <td>12</td>\n",
              "      <td>5</td>\n",
              "      <td>2</td>\n",
              "      <td>0</td>\n",
              "      <td>2</td>\n",
              "      <td>1.639578</td>\n",
              "      <td>1</td>\n",
              "      <td>0</td>\n",
              "      <td>0</td>\n",
              "    </tr>\n",
              "    <tr>\n",
              "      <th>3</th>\n",
              "      <td>-0.208323</td>\n",
              "      <td>0</td>\n",
              "      <td>0</td>\n",
              "      <td>0</td>\n",
              "      <td>-0.366034</td>\n",
              "      <td>-0.460504</td>\n",
              "      <td>0</td>\n",
              "      <td>0</td>\n",
              "      <td>12</td>\n",
              "      <td>5</td>\n",
              "      <td>1</td>\n",
              "      <td>0</td>\n",
              "      <td>1</td>\n",
              "      <td>-1.924234</td>\n",
              "      <td>0</td>\n",
              "      <td>1</td>\n",
              "      <td>0</td>\n",
              "    </tr>\n",
              "    <tr>\n",
              "      <th>4</th>\n",
              "      <td>2.621233</td>\n",
              "      <td>0</td>\n",
              "      <td>0</td>\n",
              "      <td>0</td>\n",
              "      <td>-0.366034</td>\n",
              "      <td>-0.460504</td>\n",
              "      <td>1</td>\n",
              "      <td>1</td>\n",
              "      <td>9</td>\n",
              "      <td>5</td>\n",
              "      <td>0</td>\n",
              "      <td>1</td>\n",
              "      <td>2</td>\n",
              "      <td>2.530531</td>\n",
              "      <td>0</td>\n",
              "      <td>0</td>\n",
              "      <td>0</td>\n",
              "    </tr>\n",
              "  </tbody>\n",
              "</table>\n",
              "</div>\n",
              "      <button class=\"colab-df-convert\" onclick=\"convertToInteractive('df-c10512e7-f635-483e-88e9-a1f5baae750d')\"\n",
              "              title=\"Convert this dataframe to an interactive table.\"\n",
              "              style=\"display:none;\">\n",
              "        \n",
              "  <svg xmlns=\"http://www.w3.org/2000/svg\" height=\"24px\"viewBox=\"0 0 24 24\"\n",
              "       width=\"24px\">\n",
              "    <path d=\"M0 0h24v24H0V0z\" fill=\"none\"/>\n",
              "    <path d=\"M18.56 5.44l.94 2.06.94-2.06 2.06-.94-2.06-.94-.94-2.06-.94 2.06-2.06.94zm-11 1L8.5 8.5l.94-2.06 2.06-.94-2.06-.94L8.5 2.5l-.94 2.06-2.06.94zm10 10l.94 2.06.94-2.06 2.06-.94-2.06-.94-.94-2.06-.94 2.06-2.06.94z\"/><path d=\"M17.41 7.96l-1.37-1.37c-.4-.4-.92-.59-1.43-.59-.52 0-1.04.2-1.43.59L10.3 9.45l-7.72 7.72c-.78.78-.78 2.05 0 2.83L4 21.41c.39.39.9.59 1.41.59.51 0 1.02-.2 1.41-.59l7.78-7.78 2.81-2.81c.8-.78.8-2.07 0-2.86zM5.41 20L4 18.59l7.72-7.72 1.47 1.35L5.41 20z\"/>\n",
              "  </svg>\n",
              "      </button>\n",
              "      \n",
              "  <style>\n",
              "    .colab-df-container {\n",
              "      display:flex;\n",
              "      flex-wrap:wrap;\n",
              "      gap: 12px;\n",
              "    }\n",
              "\n",
              "    .colab-df-convert {\n",
              "      background-color: #E8F0FE;\n",
              "      border: none;\n",
              "      border-radius: 50%;\n",
              "      cursor: pointer;\n",
              "      display: none;\n",
              "      fill: #1967D2;\n",
              "      height: 32px;\n",
              "      padding: 0 0 0 0;\n",
              "      width: 32px;\n",
              "    }\n",
              "\n",
              "    .colab-df-convert:hover {\n",
              "      background-color: #E2EBFA;\n",
              "      box-shadow: 0px 1px 2px rgba(60, 64, 67, 0.3), 0px 1px 3px 1px rgba(60, 64, 67, 0.15);\n",
              "      fill: #174EA6;\n",
              "    }\n",
              "\n",
              "    [theme=dark] .colab-df-convert {\n",
              "      background-color: #3B4455;\n",
              "      fill: #D2E3FC;\n",
              "    }\n",
              "\n",
              "    [theme=dark] .colab-df-convert:hover {\n",
              "      background-color: #434B5C;\n",
              "      box-shadow: 0px 1px 3px 1px rgba(0, 0, 0, 0.15);\n",
              "      filter: drop-shadow(0px 1px 2px rgba(0, 0, 0, 0.3));\n",
              "      fill: #FFFFFF;\n",
              "    }\n",
              "  </style>\n",
              "\n",
              "      <script>\n",
              "        const buttonEl =\n",
              "          document.querySelector('#df-c10512e7-f635-483e-88e9-a1f5baae750d button.colab-df-convert');\n",
              "        buttonEl.style.display =\n",
              "          google.colab.kernel.accessAllowed ? 'block' : 'none';\n",
              "\n",
              "        async function convertToInteractive(key) {\n",
              "          const element = document.querySelector('#df-c10512e7-f635-483e-88e9-a1f5baae750d');\n",
              "          const dataTable =\n",
              "            await google.colab.kernel.invokeFunction('convertToInteractive',\n",
              "                                                     [key], {});\n",
              "          if (!dataTable) return;\n",
              "\n",
              "          const docLinkHtml = 'Like what you see? Visit the ' +\n",
              "            '<a target=\"_blank\" href=https://colab.research.google.com/notebooks/data_table.ipynb>data table notebook</a>'\n",
              "            + ' to learn more about interactive tables.';\n",
              "          element.innerHTML = '';\n",
              "          dataTable['output_type'] = 'display_data';\n",
              "          await google.colab.output.renderOutput(dataTable, element);\n",
              "          const docLink = document.createElement('div');\n",
              "          docLink.innerHTML = docLinkHtml;\n",
              "          element.appendChild(docLink);\n",
              "        }\n",
              "      </script>\n",
              "    </div>\n",
              "  </div>\n",
              "  "
            ]
          },
          "metadata": {},
          "execution_count": 4
        }
      ],
      "source": [
        "#target\n",
        "y=df['HeartDisease']\n",
        "#features\n",
        "X=df.copy()\n",
        "X=df.drop('HeartDisease', axis=1)\n",
        "X.head(5)"
      ]
    },
    {
      "cell_type": "code",
      "execution_count": 5,
      "metadata": {
        "id": "rJm2b1KRJmQY"
      },
      "outputs": [],
      "source": [
        "from sklearn.model_selection import train_test_split\n",
        "from sklearn.linear_model import LogisticRegression\n",
        "from sklearn import svm\n",
        "from sklearn.svm import LinearSVC\n",
        "from sklearn.linear_model import SGDClassifier\n",
        "from sklearn.neighbors import KNeighborsClassifier\n",
        "from sklearn.ensemble import RandomForestClassifier\n",
        "from sklearn.tree import DecisionTreeClassifier\n",
        "from sklearn.ensemble import GradientBoostingClassifier\n",
        "from xgboost import XGBClassifier\n",
        "from sklearn.ensemble import AdaBoostClassifier\n",
        "from sklearn.discriminant_analysis import LinearDiscriminantAnalysis\n",
        "import sklearn.metrics as metrics\n",
        "from sklearn.metrics import accuracy_score\n",
        "from sklearn.metrics import mean_squared_error,confusion_matrix, precision_score, recall_score, f1_score, auc,roc_curve\n",
        "from sklearn.metrics import roc_auc_score\n",
        "from sklearn.metrics import mean_absolute_error\n",
        "\n",
        "\n",
        "from sklearn.pipeline import Pipeline\n",
        "from sklearn.model_selection import GridSearchCV\n",
        "\n",
        "import warnings\n",
        "warnings.filterwarnings(\"ignore\")\n",
        "\n"
      ]
    },
    {
      "cell_type": "markdown",
      "metadata": {
        "id": "92d0KKOjtCtN"
      },
      "source": [
        "#**Over Sampling**"
      ]
    },
    {
      "cell_type": "code",
      "execution_count": 6,
      "metadata": {
        "id": "epXi00CitGiA"
      },
      "outputs": [],
      "source": [
        "df1=df.copy()\n",
        "#Target\n",
        "y=df1['HeartDisease']\n",
        "#Features\n",
        "\n",
        "X=df1.copy()\n",
        "X=df1.drop('HeartDisease', axis=1)"
      ]
    },
    {
      "cell_type": "code",
      "execution_count": 7,
      "metadata": {
        "colab": {
          "base_uri": "https://localhost:8080/"
        },
        "id": "Q2Yj71fYbYV0",
        "outputId": "5853d608-c3da-4d07-d6a9-5a96c02b2b25"
      },
      "outputs": [
        {
          "output_type": "stream",
          "name": "stdout",
          "text": [
            "Looking in indexes: https://pypi.org/simple, https://us-python.pkg.dev/colab-wheels/public/simple/\n",
            "Requirement already satisfied: imblearn in /usr/local/lib/python3.7/dist-packages (0.0)\n",
            "Requirement already satisfied: imbalanced-learn in /usr/local/lib/python3.7/dist-packages (from imblearn) (0.8.1)\n",
            "Requirement already satisfied: joblib>=0.11 in /usr/local/lib/python3.7/dist-packages (from imbalanced-learn->imblearn) (1.1.0)\n",
            "Requirement already satisfied: scipy>=0.19.1 in /usr/local/lib/python3.7/dist-packages (from imbalanced-learn->imblearn) (1.4.1)\n",
            "Requirement already satisfied: numpy>=1.13.3 in /usr/local/lib/python3.7/dist-packages (from imbalanced-learn->imblearn) (1.21.6)\n",
            "Requirement already satisfied: scikit-learn>=0.24 in /usr/local/lib/python3.7/dist-packages (from imbalanced-learn->imblearn) (1.0.2)\n",
            "Requirement already satisfied: threadpoolctl>=2.0.0 in /usr/local/lib/python3.7/dist-packages (from scikit-learn>=0.24->imbalanced-learn->imblearn) (3.1.0)\n"
          ]
        }
      ],
      "source": [
        "!pip install imblearn\n",
        "from imblearn.combine import SMOTETomek\n",
        "sm = SMOTETomek(random_state=42)"
      ]
    },
    {
      "cell_type": "code",
      "execution_count": 8,
      "metadata": {
        "id": "yfYLORMZbe33"
      },
      "outputs": [],
      "source": [
        "X_sm, y_sm = sm.fit_resample(X,y)"
      ]
    },
    {
      "cell_type": "code",
      "execution_count": 9,
      "metadata": {
        "id": "LVZiMOaztfUI",
        "colab": {
          "base_uri": "https://localhost:8080/"
        },
        "outputId": "0e81df5a-25ca-42cf-9efc-43f5dd4e604e"
      },
      "outputs": [
        {
          "output_type": "stream",
          "name": "stdout",
          "text": [
            "(418800, 17)\n",
            "(418800,)\n"
          ]
        }
      ],
      "source": [
        "from sklearn.model_selection import train_test_split\n",
        "X_sm_train, X_sm_test, y_sm_train, y_sm_test=train_test_split(X_sm,y_sm, test_size=0.3, random_state=42)\n",
        "print(X_sm.shape)\n",
        "print(y_sm.shape)"
      ]
    },
    {
      "cell_type": "markdown",
      "source": [
        "#**Compare Different Model without Hyperparameter Tuning**"
      ],
      "metadata": {
        "id": "Qv8Mxtf2EkYm"
      }
    },
    {
      "cell_type": "code",
      "source": [
        "models = [\n",
        "   LogisticRegression(),\n",
        "   LinearSVC(random_state=42),\n",
        "   SGDClassifier(),\n",
        "   KNeighborsClassifier(),\n",
        "   RandomForestClassifier(random_state=42),\n",
        "   DecisionTreeClassifier(random_state=42),\n",
        "   GradientBoostingClassifier(random_state=42),\n",
        "   XGBClassifier(random_state=42),\n",
        "   AdaBoostClassifier(random_state=42),\n",
        "   LinearDiscriminantAnalysis()\n",
        "   ]"
      ],
      "metadata": {
        "id": "W6fOcQjQErBa"
      },
      "execution_count": null,
      "outputs": []
    },
    {
      "cell_type": "code",
      "source": [
        "names =['Logestic Regression', 'SVMLinear', 'SGD', 'KNN', 'RandomForest', 'DecisionTree', 'GradientBoost', 'XGBOOST', 'ADABoost', 'LDA']  \n",
        "\n",
        "models_columns = []\n",
        "models_compare = pd.DataFrame(columns = models_columns)\n",
        "\n",
        "row_index = 0\n",
        "for models_name, ml in zip(names, models): \n",
        "    \n",
        "    ml.fit(X_sm_train, y_sm_train)\n",
        "    y_sm_pred=ml.fit(X_sm_train, y_sm_train).predict(X_sm_test)\n",
        "    fp, tp, tn = roc_curve(y_sm_test, y_sm_pred)\n",
        "    #models_name = ml.__class__.__name__\n",
        "    models_compare.loc[row_index,'Model Name'] = models_name\n",
        "    models_compare.loc[row_index, 'Train Accuracy'] = round(ml.score(X_sm_train, y_sm_train), 5)\n",
        "    models_compare.loc[row_index, 'Test Accuracy'] = round(ml.score(X_sm_test, y_sm_test), 5)\n",
        "    models_compare.loc[row_index, 'Precission'] = precision_score(y_sm_test, y_sm_pred)\n",
        "    models_compare.loc[row_index, 'Recall'] = recall_score(y_sm_test, y_sm_pred)\n",
        "    models_compare.loc[row_index, 'f1 Score']=f1_score(y_sm_test, y_sm_pred)\n",
        "    models_compare.loc[row_index, 'AUC'] = auc(fp, tp)\n",
        "    models_compare.loc[row_index, 'mean abs error']=mean_absolute_error(y_sm_test, y_sm_pred)\n",
        "    row_index+=1\n",
        "    \n",
        "models_compare.sort_values(by = ['Test Accuracy'], ascending = False, inplace = True)"
      ],
      "metadata": {
        "id": "Wt2lOyytEvi8"
      },
      "execution_count": null,
      "outputs": []
    },
    {
      "cell_type": "code",
      "source": [
        "models_compare.style.set_properties(**{'background-color': 'blue',\n",
        "                           'color': 'white'})"
      ],
      "metadata": {
        "colab": {
          "base_uri": "https://localhost:8080/",
          "height": 363
        },
        "id": "cvDThSe5FBOc",
        "outputId": "14a66bf5-4447-4d3a-9fe2-037f51057945"
      },
      "execution_count": null,
      "outputs": [
        {
          "output_type": "execute_result",
          "data": {
            "text/plain": [
              "<pandas.io.formats.style.Styler at 0x7fafd856c990>"
            ],
            "text/html": [
              "<style type=\"text/css\">\n",
              "#T_5a652_row0_col0, #T_5a652_row0_col1, #T_5a652_row0_col2, #T_5a652_row0_col3, #T_5a652_row0_col4, #T_5a652_row0_col5, #T_5a652_row0_col6, #T_5a652_row0_col7, #T_5a652_row1_col0, #T_5a652_row1_col1, #T_5a652_row1_col2, #T_5a652_row1_col3, #T_5a652_row1_col4, #T_5a652_row1_col5, #T_5a652_row1_col6, #T_5a652_row1_col7, #T_5a652_row2_col0, #T_5a652_row2_col1, #T_5a652_row2_col2, #T_5a652_row2_col3, #T_5a652_row2_col4, #T_5a652_row2_col5, #T_5a652_row2_col6, #T_5a652_row2_col7, #T_5a652_row3_col0, #T_5a652_row3_col1, #T_5a652_row3_col2, #T_5a652_row3_col3, #T_5a652_row3_col4, #T_5a652_row3_col5, #T_5a652_row3_col6, #T_5a652_row3_col7, #T_5a652_row4_col0, #T_5a652_row4_col1, #T_5a652_row4_col2, #T_5a652_row4_col3, #T_5a652_row4_col4, #T_5a652_row4_col5, #T_5a652_row4_col6, #T_5a652_row4_col7, #T_5a652_row5_col0, #T_5a652_row5_col1, #T_5a652_row5_col2, #T_5a652_row5_col3, #T_5a652_row5_col4, #T_5a652_row5_col5, #T_5a652_row5_col6, #T_5a652_row5_col7, #T_5a652_row6_col0, #T_5a652_row6_col1, #T_5a652_row6_col2, #T_5a652_row6_col3, #T_5a652_row6_col4, #T_5a652_row6_col5, #T_5a652_row6_col6, #T_5a652_row6_col7, #T_5a652_row7_col0, #T_5a652_row7_col1, #T_5a652_row7_col2, #T_5a652_row7_col3, #T_5a652_row7_col4, #T_5a652_row7_col5, #T_5a652_row7_col6, #T_5a652_row7_col7, #T_5a652_row8_col0, #T_5a652_row8_col1, #T_5a652_row8_col2, #T_5a652_row8_col3, #T_5a652_row8_col4, #T_5a652_row8_col5, #T_5a652_row8_col6, #T_5a652_row8_col7, #T_5a652_row9_col0, #T_5a652_row9_col1, #T_5a652_row9_col2, #T_5a652_row9_col3, #T_5a652_row9_col4, #T_5a652_row9_col5, #T_5a652_row9_col6, #T_5a652_row9_col7 {\n",
              "  background-color: blue;\n",
              "  color: white;\n",
              "}\n",
              "</style>\n",
              "<table id=\"T_5a652_\" class=\"dataframe\">\n",
              "  <thead>\n",
              "    <tr>\n",
              "      <th class=\"blank level0\" >&nbsp;</th>\n",
              "      <th class=\"col_heading level0 col0\" >Model Name</th>\n",
              "      <th class=\"col_heading level0 col1\" >Train Accuracy</th>\n",
              "      <th class=\"col_heading level0 col2\" >Test Accuracy</th>\n",
              "      <th class=\"col_heading level0 col3\" >Precission</th>\n",
              "      <th class=\"col_heading level0 col4\" >Recall</th>\n",
              "      <th class=\"col_heading level0 col5\" >f1 Score</th>\n",
              "      <th class=\"col_heading level0 col6\" >AUC</th>\n",
              "      <th class=\"col_heading level0 col7\" >mean abs error</th>\n",
              "    </tr>\n",
              "  </thead>\n",
              "  <tbody>\n",
              "    <tr>\n",
              "      <th id=\"T_5a652_level0_row0\" class=\"row_heading level0 row0\" >4</th>\n",
              "      <td id=\"T_5a652_row0_col0\" class=\"data row0 col0\" >RandomForest</td>\n",
              "      <td id=\"T_5a652_row0_col1\" class=\"data row0 col1\" >0.997750</td>\n",
              "      <td id=\"T_5a652_row0_col2\" class=\"data row0 col2\" >0.913800</td>\n",
              "      <td id=\"T_5a652_row0_col3\" class=\"data row0 col3\" >0.905739</td>\n",
              "      <td id=\"T_5a652_row0_col4\" class=\"data row0 col4\" >0.923178</td>\n",
              "      <td id=\"T_5a652_row0_col5\" class=\"data row0 col5\" >0.914375</td>\n",
              "      <td id=\"T_5a652_row0_col6\" class=\"data row0 col6\" >0.913828</td>\n",
              "      <td id=\"T_5a652_row0_col7\" class=\"data row0 col7\" >0.086199</td>\n",
              "    </tr>\n",
              "    <tr>\n",
              "      <th id=\"T_5a652_level0_row1\" class=\"row_heading level0 row1\" >5</th>\n",
              "      <td id=\"T_5a652_row1_col0\" class=\"data row1 col0\" >DecisionTree</td>\n",
              "      <td id=\"T_5a652_row1_col1\" class=\"data row1 col1\" >0.997790</td>\n",
              "      <td id=\"T_5a652_row1_col2\" class=\"data row1 col2\" >0.874010</td>\n",
              "      <td id=\"T_5a652_row1_col3\" class=\"data row1 col3\" >0.867596</td>\n",
              "      <td id=\"T_5a652_row1_col4\" class=\"data row1 col4\" >0.881877</td>\n",
              "      <td id=\"T_5a652_row1_col5\" class=\"data row1 col5\" >0.874678</td>\n",
              "      <td id=\"T_5a652_row1_col6\" class=\"data row1 col6\" >0.874036</td>\n",
              "      <td id=\"T_5a652_row1_col7\" class=\"data row1 col7\" >0.125987</td>\n",
              "    </tr>\n",
              "    <tr>\n",
              "      <th id=\"T_5a652_level0_row2\" class=\"row_heading level0 row2\" >3</th>\n",
              "      <td id=\"T_5a652_row2_col0\" class=\"data row2 col0\" >KNN</td>\n",
              "      <td id=\"T_5a652_row2_col1\" class=\"data row2 col1\" >0.897900</td>\n",
              "      <td id=\"T_5a652_row2_col2\" class=\"data row2 col2\" >0.857080</td>\n",
              "      <td id=\"T_5a652_row2_col3\" class=\"data row2 col3\" >0.810300</td>\n",
              "      <td id=\"T_5a652_row2_col4\" class=\"data row2 col4\" >0.931384</td>\n",
              "      <td id=\"T_5a652_row2_col5\" class=\"data row2 col5\" >0.866633</td>\n",
              "      <td id=\"T_5a652_row2_col6\" class=\"data row2 col6\" >0.857298</td>\n",
              "      <td id=\"T_5a652_row2_col7\" class=\"data row2 col7\" >0.142916</td>\n",
              "    </tr>\n",
              "    <tr>\n",
              "      <th id=\"T_5a652_level0_row3\" class=\"row_heading level0 row3\" >6</th>\n",
              "      <td id=\"T_5a652_row3_col0\" class=\"data row3 col0\" >GradientBoost</td>\n",
              "      <td id=\"T_5a652_row3_col1\" class=\"data row3 col1\" >0.811740</td>\n",
              "      <td id=\"T_5a652_row3_col2\" class=\"data row3 col2\" >0.812620</td>\n",
              "      <td id=\"T_5a652_row3_col3\" class=\"data row3 col3\" >0.791752</td>\n",
              "      <td id=\"T_5a652_row3_col4\" class=\"data row3 col4\" >0.846914</td>\n",
              "      <td id=\"T_5a652_row3_col5\" class=\"data row3 col5\" >0.818405</td>\n",
              "      <td id=\"T_5a652_row3_col6\" class=\"data row3 col6\" >0.812722</td>\n",
              "      <td id=\"T_5a652_row3_col7\" class=\"data row3 col7\" >0.187377</td>\n",
              "    </tr>\n",
              "    <tr>\n",
              "      <th id=\"T_5a652_level0_row4\" class=\"row_heading level0 row4\" >7</th>\n",
              "      <td id=\"T_5a652_row4_col0\" class=\"data row4 col0\" >XGBOOST</td>\n",
              "      <td id=\"T_5a652_row4_col1\" class=\"data row4 col1\" >0.811520</td>\n",
              "      <td id=\"T_5a652_row4_col2\" class=\"data row4 col2\" >0.812000</td>\n",
              "      <td id=\"T_5a652_row4_col3\" class=\"data row4 col3\" >0.791370</td>\n",
              "      <td id=\"T_5a652_row4_col4\" class=\"data row4 col4\" >0.845924</td>\n",
              "      <td id=\"T_5a652_row4_col5\" class=\"data row4 col5\" >0.817738</td>\n",
              "      <td id=\"T_5a652_row4_col6\" class=\"data row4 col6\" >0.812101</td>\n",
              "      <td id=\"T_5a652_row4_col7\" class=\"data row4 col7\" >0.187997</td>\n",
              "    </tr>\n",
              "    <tr>\n",
              "      <th id=\"T_5a652_level0_row5\" class=\"row_heading level0 row5\" >8</th>\n",
              "      <td id=\"T_5a652_row5_col0\" class=\"data row5 col0\" >ADABoost</td>\n",
              "      <td id=\"T_5a652_row5_col1\" class=\"data row5 col1\" >0.779650</td>\n",
              "      <td id=\"T_5a652_row5_col2\" class=\"data row5 col2\" >0.780440</td>\n",
              "      <td id=\"T_5a652_row5_col3\" class=\"data row5 col3\" >0.765876</td>\n",
              "      <td id=\"T_5a652_row5_col4\" class=\"data row5 col4\" >0.805980</td>\n",
              "      <td id=\"T_5a652_row5_col5\" class=\"data row5 col5\" >0.785416</td>\n",
              "      <td id=\"T_5a652_row5_col6\" class=\"data row5 col6\" >0.780510</td>\n",
              "      <td id=\"T_5a652_row5_col7\" class=\"data row5 col7\" >0.219564</td>\n",
              "    </tr>\n",
              "    <tr>\n",
              "      <th id=\"T_5a652_level0_row6\" class=\"row_heading level0 row6\" >1</th>\n",
              "      <td id=\"T_5a652_row6_col0\" class=\"data row6 col0\" >SVMLinear</td>\n",
              "      <td id=\"T_5a652_row6_col1\" class=\"data row6 col1\" >0.741500</td>\n",
              "      <td id=\"T_5a652_row6_col2\" class=\"data row6 col2\" >0.742880</td>\n",
              "      <td id=\"T_5a652_row6_col3\" class=\"data row6 col3\" >0.710292</td>\n",
              "      <td id=\"T_5a652_row6_col4\" class=\"data row6 col4\" >0.817826</td>\n",
              "      <td id=\"T_5a652_row6_col5\" class=\"data row6 col5\" >0.760276</td>\n",
              "      <td id=\"T_5a652_row6_col6\" class=\"data row6 col6\" >0.743093</td>\n",
              "      <td id=\"T_5a652_row6_col7\" class=\"data row6 col7\" >0.257124</td>\n",
              "    </tr>\n",
              "    <tr>\n",
              "      <th id=\"T_5a652_level0_row7\" class=\"row_heading level0 row7\" >0</th>\n",
              "      <td id=\"T_5a652_row7_col0\" class=\"data row7 col0\" >Logestic Regression</td>\n",
              "      <td id=\"T_5a652_row7_col1\" class=\"data row7 col1\" >0.741700</td>\n",
              "      <td id=\"T_5a652_row7_col2\" class=\"data row7 col2\" >0.742730</td>\n",
              "      <td id=\"T_5a652_row7_col3\" class=\"data row7 col3\" >0.719228</td>\n",
              "      <td id=\"T_5a652_row7_col4\" class=\"data row7 col4\" >0.793863</td>\n",
              "      <td id=\"T_5a652_row7_col5\" class=\"data row7 col5\" >0.754705</td>\n",
              "      <td id=\"T_5a652_row7_col6\" class=\"data row7 col6\" >0.742873</td>\n",
              "      <td id=\"T_5a652_row7_col7\" class=\"data row7 col7\" >0.257275</td>\n",
              "    </tr>\n",
              "    <tr>\n",
              "      <th id=\"T_5a652_level0_row8\" class=\"row_heading level0 row8\" >9</th>\n",
              "      <td id=\"T_5a652_row8_col0\" class=\"data row8 col0\" >LDA</td>\n",
              "      <td id=\"T_5a652_row8_col1\" class=\"data row8 col1\" >0.741650</td>\n",
              "      <td id=\"T_5a652_row8_col2\" class=\"data row8 col2\" >0.742730</td>\n",
              "      <td id=\"T_5a652_row8_col3\" class=\"data row8 col3\" >0.711931</td>\n",
              "      <td id=\"T_5a652_row8_col4\" class=\"data row8 col4\" >0.812893</td>\n",
              "      <td id=\"T_5a652_row8_col5\" class=\"data row8 col5\" >0.759069</td>\n",
              "      <td id=\"T_5a652_row8_col6\" class=\"data row8 col6\" >0.742936</td>\n",
              "      <td id=\"T_5a652_row8_col7\" class=\"data row8 col7\" >0.257267</td>\n",
              "    </tr>\n",
              "    <tr>\n",
              "      <th id=\"T_5a652_level0_row9\" class=\"row_heading level0 row9\" >2</th>\n",
              "      <td id=\"T_5a652_row9_col0\" class=\"data row9 col0\" >SGD</td>\n",
              "      <td id=\"T_5a652_row9_col1\" class=\"data row9 col1\" >0.730750</td>\n",
              "      <td id=\"T_5a652_row9_col2\" class=\"data row9 col2\" >0.732120</td>\n",
              "      <td id=\"T_5a652_row9_col3\" class=\"data row9 col3\" >0.680826</td>\n",
              "      <td id=\"T_5a652_row9_col4\" class=\"data row9 col4\" >0.871005</td>\n",
              "      <td id=\"T_5a652_row9_col5\" class=\"data row9 col5\" >0.764262</td>\n",
              "      <td id=\"T_5a652_row9_col6\" class=\"data row9 col6\" >0.732517</td>\n",
              "      <td id=\"T_5a652_row9_col7\" class=\"data row9 col7\" >0.267884</td>\n",
              "    </tr>\n",
              "  </tbody>\n",
              "</table>\n"
            ]
          },
          "metadata": {},
          "execution_count": 14
        }
      ]
    },
    {
      "cell_type": "markdown",
      "source": [
        "#**Compare Different Model with Hyperparameter Tuning**"
      ],
      "metadata": {
        "id": "hJqSM3SOFZXa"
      }
    },
    {
      "cell_type": "markdown",
      "metadata": {
        "id": "ElCjhGwsIfqo"
      },
      "source": [
        "**Multiple Classification Model List**"
      ]
    },
    {
      "cell_type": "code",
      "execution_count": 8,
      "metadata": {
        "id": "LGsEY2ugv0ji"
      },
      "outputs": [],
      "source": [
        "# Different ML Models\n",
        "ml1=LogisticRegression(random_state=42)\n",
        "ml2=LinearSVC(random_state=42)\n",
        "ml3=SGDClassifier(random_state=42)\n",
        "ml4=KNeighborsClassifier()\n",
        "ml5=RandomForestClassifier(random_state=42)\n",
        "ml6=DecisionTreeClassifier(random_state=42)\n",
        "ml7=GradientBoostingClassifier(random_state=42)\n",
        "ml8=XGBClassifier(random_state=42)\n",
        "ml9=AdaBoostClassifier(random_state=42)\n",
        "ml10=LinearDiscriminantAnalysis()\n",
        "   "
      ]
    },
    {
      "cell_type": "markdown",
      "source": [
        "**Logistic Regression**"
      ],
      "metadata": {
        "id": "RZjCpu9QF47m"
      }
    },
    {
      "cell_type": "code",
      "execution_count": 23,
      "metadata": {
        "id": "kkN1ooVRIsdj"
      },
      "outputs": [],
      "source": [
        "#Logistic Regression\n",
        "param1 = {}\n",
        "param1['classifier__C'] = [ 1, 2, 5]\n",
        "param1['classifier__max_iter'] = [20,50,100]\n",
        "param1['classifier__solver']=['lbfgs', 'liblinear', 'saga']\n",
        "param1['classifier__penalty'] = ['l1', 'l2']\n",
        "param1['classifier__multi_class'] = ['ovr', 'multinomial', 'auto'] \n",
        "param1['classifier'] = [ml1]\n",
        "pipeline = Pipeline([('classifier', ml1)])\n",
        "gs = GridSearchCV(pipeline, param1, cv=3, n_jobs=1, scoring='roc_auc').fit(X_sm_train, y_sm_train)\n"
      ]
    },
    {
      "cell_type": "code",
      "execution_count": 24,
      "metadata": {
        "colab": {
          "base_uri": "https://localhost:8080/"
        },
        "id": "iy1aHH29IsES",
        "outputId": "105c65b6-77ba-41bc-ecb4-db1a51668e42"
      },
      "outputs": [
        {
          "output_type": "execute_result",
          "data": {
            "text/plain": [
              "{'classifier': LogisticRegression(C=2, multi_class='ovr', random_state=42),\n",
              " 'classifier__C': 2,\n",
              " 'classifier__max_iter': 100,\n",
              " 'classifier__multi_class': 'ovr',\n",
              " 'classifier__penalty': 'l2',\n",
              " 'classifier__solver': 'lbfgs'}"
            ]
          },
          "metadata": {},
          "execution_count": 24
        }
      ],
      "source": [
        "gs.best_params_"
      ]
    },
    {
      "cell_type": "code",
      "execution_count": 25,
      "metadata": {
        "colab": {
          "base_uri": "https://localhost:8080/"
        },
        "id": "e3WcaD7qI7BB",
        "outputId": "a9cbdaf8-3da5-45eb-f97a-c732d48901fa"
      },
      "outputs": [
        {
          "output_type": "execute_result",
          "data": {
            "text/plain": [
              "0.8088633562121547"
            ]
          },
          "metadata": {},
          "execution_count": 25
        }
      ],
      "source": [
        "gs.best_score_"
      ]
    },
    {
      "cell_type": "markdown",
      "source": [
        "**SVM Linear**"
      ],
      "metadata": {
        "id": "zXTa6fbuF_TI"
      }
    },
    {
      "cell_type": "code",
      "execution_count": null,
      "metadata": {
        "id": "BU_LBQ80JYyR"
      },
      "outputs": [],
      "source": [
        "#SVM Linear\n",
        "param2 = {}\n",
        "param2['classifier__C'] = [10**-2, 10**-1, 10**0, 10**1, 10**2]\n",
        "param2['classifier__max_iter'] = [2500]\n",
        "param2['classifier__tol']=[1e-3, 1e-5, 1e-7]\n",
        "param2['classifier__multi_class'] = ['ovr', 'multinomial', 'auto']\n",
        "param2['classifier__loss'] = ['squared_hinge', 'crammer_singer','hinge' ]    \n",
        "param2['classifier'] = [ml2]\n",
        "pipeline = Pipeline([('classifier', ml2)])\n",
        "gs = GridSearchCV(pipeline, param2, cv=3, n_jobs=1, scoring='roc_auc').fit(X_sm_train, y_sm_train)"
      ]
    },
    {
      "cell_type": "code",
      "execution_count": null,
      "metadata": {
        "colab": {
          "base_uri": "https://localhost:8080/"
        },
        "id": "diTCdGwoJxa_",
        "outputId": "1a4fc341-ab91-4d3c-ed4a-07e8c7c8300b"
      },
      "outputs": [
        {
          "data": {
            "text/plain": [
              "{'classifier': LinearSVC(C=1, max_iter=2500, random_state=42, tol=0.001),\n",
              " 'classifier__C': 1,\n",
              " 'classifier__loss': 'squared_hinge',\n",
              " 'classifier__max_iter': 2500,\n",
              " 'classifier__multi_class': 'ovr',\n",
              " 'classifier__tol': 0.001}"
            ]
          },
          "execution_count": 32,
          "metadata": {},
          "output_type": "execute_result"
        }
      ],
      "source": [
        "gs.best_params_"
      ]
    },
    {
      "cell_type": "code",
      "execution_count": null,
      "metadata": {
        "colab": {
          "base_uri": "https://localhost:8080/"
        },
        "id": "X13lCn9aMRpI",
        "outputId": "2f0233bc-586e-484b-9e27-58d3eb9a9857"
      },
      "outputs": [
        {
          "data": {
            "text/plain": [
              "0.8088749344443021"
            ]
          },
          "execution_count": 33,
          "metadata": {},
          "output_type": "execute_result"
        }
      ],
      "source": [
        "gs.best_score_"
      ]
    },
    {
      "cell_type": "markdown",
      "metadata": {
        "id": "CaeHidUEA2va"
      },
      "source": [
        "**SGD**"
      ]
    },
    {
      "cell_type": "code",
      "execution_count": null,
      "metadata": {
        "colab": {
          "base_uri": "https://localhost:8080/",
          "height": 623
        },
        "id": "kOc0qxmGA2PE",
        "outputId": "46fa27de-77aa-45c9-ded2-923d15b375f4"
      },
      "outputs": [
        {
          "data": {
            "text/plain": [
              "Text(0, 0.5, 'Testing Accuracy')"
            ]
          },
          "execution_count": 21,
          "metadata": {},
          "output_type": "execute_result"
        },
        {
          "data": {
            "image/png": "[encoded data removed]",
            "text/plain": [
              "<Figure size 936x720 with 1 Axes>"
            ]
          },
          "metadata": {},
          "output_type": "display_data"
        }
      ],
      "source": [
        "scores= []\n",
        "for k in range(-1,2):\n",
        "\tsgd_val=SGDClassifier(n_jobs=k)\n",
        "\tsgd_val.fit(X_sm_train, y_sm_train)\n",
        "\ty_val = sgd_val.predict(X_sm_test)\n",
        "\tscores.append (accuracy_score(y_sm_test, y_val))\n",
        "import matplotlib.pyplot as plt\n",
        "plt.figure(figsize=(13,10))\n",
        "plt.plot(range(-1,2),scores)\n",
        "plt.xlabel ('Value of n_jobs for SGD')\n",
        "plt.ylabel('Testing Accuracy')"
      ]
    },
    {
      "cell_type": "code",
      "execution_count": null,
      "metadata": {
        "colab": {
          "base_uri": "https://localhost:8080/",
          "height": 623
        },
        "id": "AOPxfBDeMEY5",
        "outputId": "0356c905-de18-48ba-b479-5654e29f25a6"
      },
      "outputs": [
        {
          "data": {
            "text/plain": [
              "Text(0, 0.5, 'Testing Accuracy')"
            ]
          },
          "execution_count": 22,
          "metadata": {},
          "output_type": "execute_result"
        },
        {
          "data": {
            "image/png": "[encoded data removed]",
            "text/plain": [
              "<Figure size 936x720 with 1 Axes>"
            ]
          },
          "metadata": {},
          "output_type": "display_data"
        }
      ],
      "source": [
        "scores= []\n",
        "for k in range(500,2000,250):\n",
        "\tsgd_val=SGDClassifier(max_iter=k)\n",
        "\tsgd_val.fit(X_sm_train, y_sm_train)\n",
        "\ty_val = sgd_val.predict(X_sm_test)\n",
        "\tscores.append (accuracy_score(y_sm_test, y_val))\n",
        "import matplotlib.pyplot as plt\n",
        "plt.figure(figsize=(13,10))\n",
        "plt.plot(range(500,2000,250),scores)\n",
        "plt.xlabel ('Value of max_iter for SGD')\n",
        "plt.ylabel('Testing Accuracy')"
      ]
    },
    {
      "cell_type": "code",
      "execution_count": null,
      "metadata": {
        "id": "HE-3NfId2B4s"
      },
      "outputs": [],
      "source": [
        "#SGD\n",
        "param3 = {}\n",
        "param3['classifier__max_iter'] = [200,500]\n",
        "param3['classifier__tol']=[1e-3, 1e-5]\n",
        "param3['classifier__penalty']=['l1', 'l2']\n",
        "param3['classifier__loss'] = ['hinge', 'log_loss', 'log', 'modified_huber','squared_hinge', 'perceptron', \n",
        "'squared_error', 'huber', 'epsilon_insensitive', 'squared_epsilon_insensitive']\n",
        "param3['classifier'] = [ml3]\n",
        "pipeline = Pipeline([('classifier', ml3)])\n"
      ]
    },
    {
      "cell_type": "code",
      "execution_count": null,
      "metadata": {
        "colab": {
          "base_uri": "https://localhost:8080/"
        },
        "id": "tmU-rBRL2iv6",
        "outputId": "5b90e94c-ea6d-4378-96cd-0bfa3ba425f8"
      },
      "outputs": [
        {
          "data": {
            "text/plain": [
              "{'classifier': SGDClassifier(loss='log', max_iter=200, penalty='l1', random_state=42,\n",
              "               tol=1e-05),\n",
              " 'classifier__loss': 'log',\n",
              " 'classifier__max_iter': 200,\n",
              " 'classifier__penalty': 'l1',\n",
              " 'classifier__tol': 1e-05}"
            ]
          },
          "execution_count": 27,
          "metadata": {},
          "output_type": "execute_result"
        }
      ],
      "source": [
        "gs = GridSearchCV(pipeline, param3, cv=3, n_jobs=-1, scoring='roc_auc').fit(X_sm_train, y_sm_train)\n",
        "gs.best_params_"
      ]
    },
    {
      "cell_type": "code",
      "execution_count": null,
      "metadata": {
        "colab": {
          "base_uri": "https://localhost:8080/"
        },
        "id": "spYVCw2Q_Ifg",
        "outputId": "b5c40718-82c0-4a68-f81c-a315fc2709cc"
      },
      "outputs": [
        {
          "data": {
            "text/plain": [
              "{'classifier': SGDClassifier(loss='log', max_iter=200, penalty='l1', random_state=42,\n",
              "               tol=1e-05),\n",
              " 'classifier__loss': 'log',\n",
              " 'classifier__max_iter': 200,\n",
              " 'classifier__penalty': 'l1',\n",
              " 'classifier__tol': 1e-05}"
            ]
          },
          "execution_count": 28,
          "metadata": {},
          "output_type": "execute_result"
        }
      ],
      "source": [
        "gs.best_params_"
      ]
    },
    {
      "cell_type": "code",
      "execution_count": null,
      "metadata": {
        "colab": {
          "base_uri": "https://localhost:8080/"
        },
        "id": "hFvBrPgt8VGx",
        "outputId": "c880e067-9e3b-42f6-f0d5-bf4e9fcc3bbf"
      },
      "outputs": [
        {
          "data": {
            "text/plain": [
              "0.8087823175923287"
            ]
          },
          "execution_count": 30,
          "metadata": {},
          "output_type": "execute_result"
        }
      ],
      "source": [
        "gs.best_score_"
      ]
    },
    {
      "cell_type": "markdown",
      "source": [
        "**K-nearest Neighbouring**"
      ],
      "metadata": {
        "id": "k21Z3-9sGMQy"
      }
    },
    {
      "cell_type": "markdown",
      "metadata": {
        "id": "RD-K00rNhXGU"
      },
      "source": [
        "**k-value identification for KNN**"
      ]
    },
    {
      "cell_type": "code",
      "execution_count": null,
      "metadata": {
        "colab": {
          "base_uri": "https://localhost:8080/"
        },
        "id": "h1uKST9ghaGB",
        "outputId": "46eb58a7-3822-4e85-f124-890af262c531"
      },
      "outputs": [
        {
          "data": {
            "text/plain": [
              "array([0.88744826, 0.87176059, 0.86664279, 0.86553645, 0.85708373,\n",
              "       0.85988539, 0.84977714, 0.85273798, 0.84399077, 0.84687202])"
            ]
          },
          "execution_count": 11,
          "metadata": {},
          "output_type": "execute_result"
        }
      ],
      "source": [
        "# calculating the accuracy of models with different values of k\n",
        "mean_acc = np.zeros(10)\n",
        "for i in range(1,11):\n",
        "    #Train Model and Predict  \n",
        "    knn = KNeighborsClassifier(n_neighbors = i).fit(X_sm_train,y_sm_train)\n",
        "    yhat= knn.predict(X_sm_test)\n",
        "    mean_acc[i-1] = accuracy_score(y_sm_test, yhat)\n",
        "\n",
        "mean_acc"
      ]
    },
    {
      "cell_type": "code",
      "execution_count": null,
      "metadata": {
        "colab": {
          "base_uri": "https://localhost:8080/",
          "height": 388
        },
        "id": "3hxwWdcHjLaN",
        "outputId": "206bae5b-5127-47bb-b29c-3867ef061dea"
      },
      "outputs": [
        {
          "data": {
            "image/png": "[encoded data removed]",
            "text/plain": [
              "<Figure size 720x432 with 1 Axes>"
            ]
          },
          "metadata": {},
          "output_type": "display_data"
        }
      ],
      "source": [
        "loc = np.arange(1,11,step=1.0)\n",
        "plt.figure(figsize = (10, 6))\n",
        "plt.plot(range(1,11), mean_acc)\n",
        "plt.xticks(loc)\n",
        "plt.xlabel('Number of Neighbors')\n",
        "plt.ylabel('Accuracy')\n",
        "plt.show()"
      ]
    },
    {
      "cell_type": "code",
      "execution_count": null,
      "metadata": {
        "id": "gNflSPp6ASee"
      },
      "outputs": [],
      "source": [
        "#KNN\n",
        "param4 = {}\n",
        "param4['classifier__n_neighbors'] = [2,5]\n",
        "param4['classifier__weights'] = ['uniform']\n",
        "param4['classifier__metric'] =['minkowski','euclidean','manhattan']\n",
        "param4['classifier'] = [ml4]\n",
        "pipeline = Pipeline([('classifier', ml4)])\n",
        "gs = GridSearchCV(pipeline, param4, cv=3, n_jobs=1, scoring='roc_auc').fit(X_sm_train, y_sm_train)"
      ]
    },
    {
      "cell_type": "code",
      "execution_count": null,
      "metadata": {
        "colab": {
          "base_uri": "https://localhost:8080/"
        },
        "id": "5axtnStECSNc",
        "outputId": "7e8ebb53-7217-4e3d-9b22-2a85510596fb"
      },
      "outputs": [
        {
          "output_type": "execute_result",
          "data": {
            "text/plain": [
              "{'classifier': KNeighborsClassifier(metric='manhattan'),\n",
              " 'classifier__metric': 'manhattan',\n",
              " 'classifier__n_neighbors': 5,\n",
              " 'classifier__weights': 'uniform'}"
            ]
          },
          "metadata": {},
          "execution_count": 11
        }
      ],
      "source": [
        "gs.best_params_"
      ]
    },
    {
      "cell_type": "code",
      "execution_count": null,
      "metadata": {
        "id": "a0mpMaSQB1UM",
        "colab": {
          "base_uri": "https://localhost:8080/"
        },
        "outputId": "ed3cdba5-a3ba-435d-f026-c665f11a24a6"
      },
      "outputs": [
        {
          "output_type": "execute_result",
          "data": {
            "text/plain": [
              "0.9148296509135737"
            ]
          },
          "metadata": {},
          "execution_count": 12
        }
      ],
      "source": [
        "gs.best_score_"
      ]
    },
    {
      "cell_type": "markdown",
      "source": [
        "**Random Forest Classifier**\n",
        "\n"
      ],
      "metadata": {
        "id": "FkooXFdfGT4k"
      }
    },
    {
      "cell_type": "markdown",
      "metadata": {
        "id": "C3gXwCzPGkqs"
      },
      "source": [
        "**n_estimators for RandomForest**"
      ]
    },
    {
      "cell_type": "code",
      "execution_count": null,
      "metadata": {
        "colab": {
          "base_uri": "https://localhost:8080/",
          "height": 624
        },
        "id": "t1e9WAqqGtJG",
        "outputId": "552e7cb6-aab4-4614-e091-212915a6069c"
      },
      "outputs": [
        {
          "data": {
            "text/plain": [
              "Text(0, 0.5, 'Testing Accuracy')"
            ]
          },
          "execution_count": 42,
          "metadata": {},
          "output_type": "execute_result"
        },
        {
          "data": {
            "image/png": "[encoded data removed]",
            "text/plain": [
              "<Figure size 936x720 with 1 Axes>"
            ]
          },
          "metadata": {},
          "output_type": "display_data"
        }
      ],
      "source": [
        "scores= []\n",
        "for k in range(1,120):\n",
        "\trfc_val=RandomForestClassifier (n_estimators=k)\n",
        "\trfc_val.fit(X_sm_train, y_sm_train)\n",
        "\ty_sm_val = rfc_val.predict(X_sm_test)\n",
        "\tscores.append (accuracy_score(y_sm_test, y_sm_val))\n",
        "import matplotlib.pyplot as plt\n",
        "plt.figure(figsize=(13,10))\n",
        "plt.plot(range(1,120),scores)\n",
        "plt.xlabel ('Value of n_estimators for Random Forest Classifier')\n",
        "plt.ylabel('Testing Accuracy')"
      ]
    },
    {
      "cell_type": "code",
      "execution_count": null,
      "metadata": {
        "colab": {
          "base_uri": "https://localhost:8080/",
          "height": 624
        },
        "id": "b4F1sRqUYA9X",
        "outputId": "9614bfd5-4112-4e61-edc9-591b39f23de2"
      },
      "outputs": [
        {
          "data": {
            "text/plain": [
              "Text(0, 0.5, 'Testing Accuracy')"
            ]
          },
          "execution_count": 17,
          "metadata": {},
          "output_type": "execute_result"
        },
        {
          "data": {
            "image/png": "[encoded data removed]",
            "text/plain": [
              "<Figure size 936x720 with 1 Axes>"
            ]
          },
          "metadata": {},
          "output_type": "display_data"
        }
      ],
      "source": [
        "scores= []\n",
        "for k in range(1,25):\n",
        "\trfc_val=RandomForestClassifier (max_depth=k)\n",
        "\trfc_val.fit(X_sm_train, y_sm_train)\n",
        "\ty_sm_val = rfc_val.predict(X_sm_test)\n",
        "\tscores.append (accuracy_score(y_sm_test, y_sm_val))\n",
        "import matplotlib.pyplot as plt\n",
        "plt.figure(figsize=(13,10))\n",
        "plt.plot(range(1,25),scores)\n",
        "plt.xlabel ('Value of max_depth for Random Forest Classifier')\n",
        "plt.ylabel('Testing Accuracy')"
      ]
    },
    {
      "cell_type": "code",
      "execution_count": null,
      "metadata": {
        "id": "cB-EvPZCCdl7"
      },
      "outputs": [],
      "source": [
        "#RandomForest\n",
        "param5 = {}\n",
        "param5['classifier__n_estimators'] = [115,116,117]\n",
        "param5['classifier__max_depth'] = [10,11,12, None]\n",
        "param5['classifier__criterion'] = ['gini', 'entropy', 'log_loss']\n",
        "param5['classifier__max_features'] = ['sqrt', 'log2', None]\n",
        "param5['classifier'] = [ml5]\n",
        "pipeline = Pipeline([('classifier', ml5)])\n",
        "gs = GridSearchCV(pipeline, param5, cv=3, n_jobs=1, scoring='roc_auc').fit(X_sm_train, y_sm_train)"
      ]
    },
    {
      "cell_type": "code",
      "execution_count": null,
      "metadata": {
        "colab": {
          "base_uri": "https://localhost:8080/"
        },
        "id": "zi_rV5WRCriP",
        "outputId": "711d2c33-4034-4bd2-8362-b11042418655"
      },
      "outputs": [
        {
          "output_type": "execute_result",
          "data": {
            "text/plain": [
              "{'classifier': RandomForestClassifier(criterion='entropy', max_features=None, n_estimators=117,\n",
              "                        random_state=42),\n",
              " 'classifier__criterion': 'entropy',\n",
              " 'classifier__max_depth': None,\n",
              " 'classifier__max_features': None,\n",
              " 'classifier__n_estimators': 117}"
            ]
          },
          "metadata": {},
          "execution_count": 14
        }
      ],
      "source": [
        "gs.best_params_"
      ]
    },
    {
      "cell_type": "code",
      "execution_count": null,
      "metadata": {
        "colab": {
          "base_uri": "https://localhost:8080/"
        },
        "id": "3j3JzHWwCuV1",
        "outputId": "4a785613-fa36-42e7-cace-dd5e71be6a09"
      },
      "outputs": [
        {
          "output_type": "execute_result",
          "data": {
            "text/plain": [
              "0.9553969560501666"
            ]
          },
          "metadata": {},
          "execution_count": 15
        }
      ],
      "source": [
        "gs.best_score_"
      ]
    },
    {
      "cell_type": "code",
      "execution_count": 26,
      "metadata": {
        "colab": {
          "base_uri": "https://localhost:8080/"
        },
        "id": "qnEUxlR28yyd",
        "outputId": "9991ffa5-6ab9-4d0c-9116-ff8a593a1b77"
      },
      "outputs": [
        {
          "output_type": "stream",
          "name": "stdout",
          "text": [
            "0.9977520807750034\n",
            "0.9138013371537727\n"
          ]
        }
      ],
      "source": [
        "RandomForestClassifier(criterion='entropy', max_depth=10,\n",
        "                        random_state=42)\n",
        "ml5.fit(X_sm_train, y_sm_train)\n",
        "y_sm_pred_rf=ml5.fit(X_sm_train, y_sm_train).predict(X_sm_test)\n",
        "print(ml5.score(X_sm_train, y_sm_train))\n",
        "print(ml5.score(X_sm_test, y_sm_test))"
      ]
    },
    {
      "cell_type": "markdown",
      "source": [
        "**Decision Tree Classifier**"
      ],
      "metadata": {
        "id": "CgwjXSTFGcKt"
      }
    },
    {
      "cell_type": "markdown",
      "metadata": {
        "id": "Qm2gpoHqDByh"
      },
      "source": [
        "**n_estimators for DecisionTree**"
      ]
    },
    {
      "cell_type": "code",
      "execution_count": null,
      "metadata": {
        "colab": {
          "base_uri": "https://localhost:8080/",
          "height": 623
        },
        "id": "OVVnij1MUuRi",
        "outputId": "e7255047-3e14-4fff-9cc7-1709d42fe237"
      },
      "outputs": [
        {
          "output_type": "execute_result",
          "data": {
            "text/plain": [
              "Text(0, 0.5, 'Testing Accuracy')"
            ]
          },
          "metadata": {},
          "execution_count": 23
        },
        {
          "output_type": "display_data",
          "data": {
            "text/plain": [
              "<Figure size 936x720 with 1 Axes>"
            ],
            "image/png": "[encoded data removed]"
          },
          "metadata": {
            "needs_background": "light"
          }
        }
      ],
      "source": [
        "scores= []\n",
        "for k in range(2,1200):\n",
        "\tdtc_val=DecisionTreeClassifier(max_leaf_nodes=k)\n",
        "\tdtc_val.fit(X_sm_train, y_sm_train)\n",
        "\ty_sm_val = dtc_val.predict(X_sm_test)\n",
        "\tscores.append (accuracy_score(y_sm_test, y_sm_val))\n",
        "import matplotlib.pyplot as plt\n",
        "plt.figure(figsize=(13,10))\n",
        "plt.plot(range(2,1200),scores)\n",
        "plt.xlabel ('Value of max_leaf_nodes for Decision Tree')\n",
        "plt.ylabel('Testing Accuracy')"
      ]
    },
    {
      "cell_type": "code",
      "execution_count": null,
      "metadata": {
        "colab": {
          "base_uri": "https://localhost:8080/",
          "height": 624
        },
        "id": "2zeToNHVVhee",
        "outputId": "ecbcc72a-bacd-4df6-c23c-37a9082e8e41"
      },
      "outputs": [
        {
          "data": {
            "text/plain": [
              "Text(0, 0.5, 'Testing Accuracy')"
            ]
          },
          "execution_count": 31,
          "metadata": {},
          "output_type": "execute_result"
        },
        {
          "data": {
            "image/png": "[encoded data removed]",
            "text/plain": [
              "<Figure size 936x720 with 1 Axes>"
            ]
          },
          "metadata": {},
          "output_type": "display_data"
        }
      ],
      "source": [
        "scores= []\n",
        "for k in range(1,25):\n",
        "\tdtc_val=DecisionTreeClassifier(max_depth=k)\n",
        "\tdtc_val.fit(X_sm_train, y_sm_train)\n",
        "\ty_sm_val = dtc_val.predict(X_sm_test)\n",
        "\tscores.append (accuracy_score(y_sm_test, y_sm_val))\n",
        "import matplotlib.pyplot as plt\n",
        "plt.figure(figsize=(13,10))\n",
        "plt.plot(range(1,25),scores)\n",
        "plt.xlabel ('Value of max_depth for Decision Tree')\n",
        "plt.ylabel('Testing Accuracy')"
      ]
    },
    {
      "cell_type": "code",
      "execution_count": null,
      "metadata": {
        "id": "GI5eUdnFFMzr"
      },
      "outputs": [],
      "source": [
        "#DecisionTree\n",
        "param6 = {}\n",
        "param6['classifier__max_depth'] = [2, 5, 6,None]\n",
        "param6['classifier__splitter'] = ['best', 'random']\n",
        "param6['classifier__max_leaf_nodes'] = [1200,1500,2000, None]\n",
        "param6['classifier__max_depth'] = [2, 3, 5]\n",
        "param6['classifier__criterion'] = ['gini', 'entropy', 'log_loss']\n",
        "param6['classifier'] = [ml6]\n",
        "pipeline = Pipeline([('classifier', ml6)])\n",
        "gs = GridSearchCV(pipeline, param6, cv=3, n_jobs=1, scoring='roc_auc').fit(X_sm_train, y_sm_train)"
      ]
    },
    {
      "cell_type": "code",
      "execution_count": null,
      "metadata": {
        "colab": {
          "base_uri": "https://localhost:8080/"
        },
        "id": "tdVSw_AfFhZD",
        "outputId": "f7ecb217-4c82-4cc0-95f3-4d14ddf606a9"
      },
      "outputs": [
        {
          "output_type": "execute_result",
          "data": {
            "text/plain": [
              "{'classifier': DecisionTreeClassifier(criterion='entropy', max_depth=5, max_leaf_nodes=1200,\n",
              "                        random_state=42),\n",
              " 'classifier__criterion': 'entropy',\n",
              " 'classifier__max_depth': 5,\n",
              " 'classifier__max_leaf_nodes': 1200,\n",
              " 'classifier__splitter': 'best'}"
            ]
          },
          "metadata": {},
          "execution_count": 11
        }
      ],
      "source": [
        "gs.best_params_"
      ]
    },
    {
      "cell_type": "code",
      "execution_count": null,
      "metadata": {
        "colab": {
          "base_uri": "https://localhost:8080/"
        },
        "id": "VAsYFeQFFlpA",
        "outputId": "ca45ab0b-13bd-4b34-f1e7-22e20d1885a0"
      },
      "outputs": [
        {
          "output_type": "execute_result",
          "data": {
            "text/plain": [
              "0.8204772932990463"
            ]
          },
          "metadata": {},
          "execution_count": 12
        }
      ],
      "source": [
        "gs.best_score_"
      ]
    },
    {
      "cell_type": "code",
      "execution_count": null,
      "metadata": {
        "colab": {
          "base_uri": "https://localhost:8080/"
        },
        "id": "yHaWi6vKBD1M",
        "outputId": "ab5eb804-a684-46cb-9dd1-468bfec84c9d"
      },
      "outputs": [
        {
          "output_type": "stream",
          "name": "stdout",
          "text": [
            "0.7486560240141902\n",
            "0.7495065265838905\n"
          ]
        }
      ],
      "source": [
        "DecisionTreeClassifier(max_depth=5, random_state=42)\n",
        "ml6.fit(X_sm_train, y_sm_train)\n",
        "y_sm_pred_dtc=ml6.fit(X_sm_train, y_sm_train).predict(X_sm_test)\n",
        "print(ml6.score(X_sm_train, y_sm_train))\n",
        "print(ml6.score(X_sm_test, y_sm_test))"
      ]
    },
    {
      "cell_type": "markdown",
      "source": [
        "**Gradient Descent Classifier**"
      ],
      "metadata": {
        "id": "QpUZR5wRGjwx"
      }
    },
    {
      "cell_type": "code",
      "execution_count": null,
      "metadata": {
        "colab": {
          "background_save": true
        },
        "id": "bY-1QIjzFpDE"
      },
      "outputs": [],
      "source": [
        "#Gradient Descent Classifier\n",
        "param7 = {}\n",
        "param7['classifier__n_estimators'] = [10, 50, 100, 200]\n",
        "param7['classifier__max_depth'] = [5, 10, 20]\n",
        "param7['classifier'] = [ml7]\n",
        "pipeline = Pipeline([('classifier', ml7)])\n",
        "gs = GridSearchCV(pipeline, param7, cv=3, n_jobs=1, scoring='roc_auc').fit(X_sm_train, y_sm_train)"
      ]
    },
    {
      "cell_type": "code",
      "execution_count": null,
      "metadata": {
        "colab": {
          "background_save": true
        },
        "id": "fj2bBBQNF5Pk",
        "outputId": "82a4a620-68e1-4029-c16d-1bdb1ef2f2cf"
      },
      "outputs": [
        {
          "data": {
            "text/plain": [
              "{'classifier': GradientBoostingClassifier(max_depth=20, n_estimators=200, random_state=42),\n",
              " 'classifier__max_depth': 20,\n",
              " 'classifier__n_estimators': 200}"
            ]
          },
          "execution_count": null,
          "metadata": {},
          "output_type": "execute_result"
        }
      ],
      "source": [
        "gs.best_params_"
      ]
    },
    {
      "cell_type": "code",
      "execution_count": null,
      "metadata": {
        "colab": {
          "background_save": true
        },
        "id": "kjhjqGflGAoB",
        "outputId": "ecc7921b-d336-4f19-d870-9e2d479e725e"
      },
      "outputs": [
        {
          "data": {
            "text/plain": [
              "0.9783886770205149"
            ]
          },
          "execution_count": null,
          "metadata": {},
          "output_type": "execute_result"
        }
      ],
      "source": [
        "gs.best_score_"
      ]
    },
    {
      "cell_type": "markdown",
      "source": [
        "**XGBOOST**"
      ],
      "metadata": {
        "id": "ZvW2y09gGumu"
      }
    },
    {
      "cell_type": "code",
      "execution_count": null,
      "metadata": {
        "id": "zsQIdB_MHYIR"
      },
      "outputs": [],
      "source": [
        "#XGBoost\n",
        "param8 = {}\n",
        "param8['classifier__max_depth'] = [5,6,8,10,None]\n",
        "param8['classifier__learning_rate'] = [ 0.1, 0.2, 0.3]\n",
        "param8['classifier__gamma']=[ 0.0, 0.1, 0.2]\n",
        "pipeline = Pipeline([('classifier', ml8)])\n",
        "gs = GridSearchCV(pipeline, param8, cv=3, n_jobs=1, scoring='roc_auc').fit(X_sm_train, y_sm_train)"
      ]
    },
    {
      "cell_type": "code",
      "execution_count": null,
      "metadata": {
        "colab": {
          "base_uri": "https://localhost:8080/"
        },
        "id": "WKVuiueJHxGv",
        "outputId": "c1538dc7-0aad-4c8e-bc79-e31446882d79"
      },
      "outputs": [
        {
          "data": {
            "text/plain": [
              "{'classifier__gamma': 0.1,\n",
              " 'classifier__learning_rate': 0.3,\n",
              " 'classifier__max_depth': 10}"
            ]
          },
          "execution_count": 13,
          "metadata": {},
          "output_type": "execute_result"
        }
      ],
      "source": [
        "gs.best_params_"
      ]
    },
    {
      "cell_type": "code",
      "execution_count": null,
      "metadata": {
        "colab": {
          "base_uri": "https://localhost:8080/"
        },
        "id": "uPSg0KimHzZK",
        "outputId": "86451fa8-fc74-42b0-d947-ab9c4233f942"
      },
      "outputs": [
        {
          "data": {
            "text/plain": [
              "0.972743655425973"
            ]
          },
          "execution_count": 14,
          "metadata": {},
          "output_type": "execute_result"
        }
      ],
      "source": [
        "gs.best_score_"
      ]
    },
    {
      "cell_type": "markdown",
      "source": [
        "**AdaBoost**"
      ],
      "metadata": {
        "id": "Eht4Kly-GqMv"
      }
    },
    {
      "cell_type": "code",
      "execution_count": null,
      "metadata": {
        "id": "nRzkuLgHH6-I"
      },
      "outputs": [],
      "source": [
        "#AdaBoost\n",
        "param9 = {}\n",
        "param9['classifier__n_estimators'] = [10, 50, 70,100, 150]\n",
        "param9['classifier__learning_rate']=[ 1, 2]\n",
        "pipeline = Pipeline([('classifier', ml9)])\n",
        "gs = GridSearchCV(pipeline, param9, cv=3, n_jobs=1, scoring='roc_auc').fit(X_sm_train, y_sm_train)"
      ]
    },
    {
      "cell_type": "code",
      "execution_count": null,
      "metadata": {
        "colab": {
          "base_uri": "https://localhost:8080/"
        },
        "id": "j60JhkFIIDvP",
        "outputId": "6b31d794-dc1b-4888-d84b-914a6eb591ea"
      },
      "outputs": [
        {
          "data": {
            "text/plain": [
              "{'classifier__learning_rate': 1, 'classifier__n_estimators': 100}"
            ]
          },
          "execution_count": 16,
          "metadata": {},
          "output_type": "execute_result"
        }
      ],
      "source": [
        "gs.best_params_"
      ]
    },
    {
      "cell_type": "code",
      "execution_count": null,
      "metadata": {
        "colab": {
          "base_uri": "https://localhost:8080/"
        },
        "id": "ToQA5HBJIG-K",
        "outputId": "6ba79b8a-f379-4a6b-d8cd-c83989fd779b"
      },
      "outputs": [
        {
          "data": {
            "text/plain": [
              "0.8838939218300524"
            ]
          },
          "execution_count": 17,
          "metadata": {},
          "output_type": "execute_result"
        }
      ],
      "source": [
        "gs.best_score_"
      ]
    },
    {
      "cell_type": "markdown",
      "metadata": {
        "id": "rvY5nKO09m_J"
      },
      "source": [
        "**Compare Different Model with Hyperparameter Tuning**"
      ]
    },
    {
      "cell_type": "code",
      "execution_count": 10,
      "metadata": {
        "id": "ZoOg8XxNOf-G"
      },
      "outputs": [],
      "source": [
        "models = [\n",
        "   LogisticRegression(C=2, multi_class='ovr', random_state=42, solver='liblinear'),\n",
        "   LinearSVC(C=1, max_iter=2500, random_state=42, tol=0.001),\n",
        "   SGDClassifier(loss='log', max_iter=200, penalty='l1', random_state=42,\n",
        "               tol=1e-05),\n",
        "   KNeighborsClassifier(metric='manhattan'),\n",
        "   RandomForestClassifier(criterion='entropy', random_state=42),\n",
        "   DecisionTreeClassifier(criterion='entropy', random_state=42),\n",
        "   GradientBoostingClassifier(max_depth=20, n_estimators=200, random_state=42),\n",
        "   XGBClassifier(random_state=42),\n",
        "   AdaBoostClassifier(random_state=42),\n",
        "   LinearDiscriminantAnalysis()\n",
        "   ]"
      ]
    },
    {
      "cell_type": "code",
      "execution_count": null,
      "metadata": {
        "id": "ASonzCE8Of-G"
      },
      "outputs": [],
      "source": [
        "names =['Logestic Regression', 'SVMLinear', 'SGD', 'KNN', 'RandomForest', 'DecisionTree', 'GradientBoost', 'XGBOOST', 'ADABoost', 'LDA']  \n",
        "\n",
        "models_columns = []\n",
        "models_compare = pd.DataFrame(columns = models_columns)\n",
        "\n",
        "row_index = 0\n",
        "for models_name, ml in zip(names, models): \n",
        "    \n",
        "    ml.fit(X_sm_train, y_sm_train)\n",
        "    y_sm_pred=ml.fit(X_sm_train, y_sm_train).predict(X_sm_test)\n",
        "    fp, tp, tn = roc_curve(y_sm_test, y_sm_pred)\n",
        "    #models_name = ml.__class__.__name__\n",
        "    models_compare.loc[row_index,'Model Name'] = models_name\n",
        "    models_compare.loc[row_index, 'Train Accuracy'] = round(ml.score(X_sm_train, y_sm_train), 5)\n",
        "    models_compare.loc[row_index, 'Test Accuracy'] = round(ml.score(X_sm_test, y_sm_test), 5)\n",
        "    models_compare.loc[row_index, 'Precission'] = precision_score(y_sm_test, y_sm_pred)\n",
        "    models_compare.loc[row_index, 'Recall'] = recall_score(y_sm_test, y_sm_pred)\n",
        "    models_compare.loc[row_index, 'f1 Score']=f1_score(y_sm_test, y_sm_pred)\n",
        "    models_compare.loc[row_index, 'AUC'] = auc(fp, tp)\n",
        "    models_compare.loc[row_index, 'mean abs error']=mean_absolute_error(y_sm_test, y_sm_pred)\n",
        "    row_index+=1\n",
        "    \n",
        "models_compare.sort_values(by = ['Test Accuracy'], ascending = False, inplace = True)    \n"
      ]
    },
    {
      "cell_type": "code",
      "execution_count": 12,
      "metadata": {
        "colab": {
          "base_uri": "https://localhost:8080/",
          "height": 363
        },
        "id": "oBwJbjONOf-H",
        "outputId": "002cd7d7-2307-4476-aa87-727b56a12463"
      },
      "outputs": [
        {
          "output_type": "execute_result",
          "data": {
            "text/plain": [
              "<pandas.io.formats.style.Styler at 0x7f725d7d85d0>"
            ],
            "text/html": [
              "<style type=\"text/css\">\n",
              "#T_5fc0e_row0_col0, #T_5fc0e_row0_col1, #T_5fc0e_row0_col2, #T_5fc0e_row0_col3, #T_5fc0e_row0_col4, #T_5fc0e_row0_col5, #T_5fc0e_row0_col6, #T_5fc0e_row0_col7, #T_5fc0e_row1_col0, #T_5fc0e_row1_col1, #T_5fc0e_row1_col2, #T_5fc0e_row1_col3, #T_5fc0e_row1_col4, #T_5fc0e_row1_col5, #T_5fc0e_row1_col6, #T_5fc0e_row1_col7, #T_5fc0e_row2_col0, #T_5fc0e_row2_col1, #T_5fc0e_row2_col2, #T_5fc0e_row2_col3, #T_5fc0e_row2_col4, #T_5fc0e_row2_col5, #T_5fc0e_row2_col6, #T_5fc0e_row2_col7, #T_5fc0e_row3_col0, #T_5fc0e_row3_col1, #T_5fc0e_row3_col2, #T_5fc0e_row3_col3, #T_5fc0e_row3_col4, #T_5fc0e_row3_col5, #T_5fc0e_row3_col6, #T_5fc0e_row3_col7, #T_5fc0e_row4_col0, #T_5fc0e_row4_col1, #T_5fc0e_row4_col2, #T_5fc0e_row4_col3, #T_5fc0e_row4_col4, #T_5fc0e_row4_col5, #T_5fc0e_row4_col6, #T_5fc0e_row4_col7, #T_5fc0e_row5_col0, #T_5fc0e_row5_col1, #T_5fc0e_row5_col2, #T_5fc0e_row5_col3, #T_5fc0e_row5_col4, #T_5fc0e_row5_col5, #T_5fc0e_row5_col6, #T_5fc0e_row5_col7, #T_5fc0e_row6_col0, #T_5fc0e_row6_col1, #T_5fc0e_row6_col2, #T_5fc0e_row6_col3, #T_5fc0e_row6_col4, #T_5fc0e_row6_col5, #T_5fc0e_row6_col6, #T_5fc0e_row6_col7, #T_5fc0e_row7_col0, #T_5fc0e_row7_col1, #T_5fc0e_row7_col2, #T_5fc0e_row7_col3, #T_5fc0e_row7_col4, #T_5fc0e_row7_col5, #T_5fc0e_row7_col6, #T_5fc0e_row7_col7, #T_5fc0e_row8_col0, #T_5fc0e_row8_col1, #T_5fc0e_row8_col2, #T_5fc0e_row8_col3, #T_5fc0e_row8_col4, #T_5fc0e_row8_col5, #T_5fc0e_row8_col6, #T_5fc0e_row8_col7, #T_5fc0e_row9_col0, #T_5fc0e_row9_col1, #T_5fc0e_row9_col2, #T_5fc0e_row9_col3, #T_5fc0e_row9_col4, #T_5fc0e_row9_col5, #T_5fc0e_row9_col6, #T_5fc0e_row9_col7 {\n",
              "  background-color: blue;\n",
              "  color: white;\n",
              "}\n",
              "</style>\n",
              "<table id=\"T_5fc0e_\" class=\"dataframe\">\n",
              "  <thead>\n",
              "    <tr>\n",
              "      <th class=\"blank level0\" >&nbsp;</th>\n",
              "      <th class=\"col_heading level0 col0\" >Model Name</th>\n",
              "      <th class=\"col_heading level0 col1\" >Train Accuracy</th>\n",
              "      <th class=\"col_heading level0 col2\" >Test Accuracy</th>\n",
              "      <th class=\"col_heading level0 col3\" >Precission</th>\n",
              "      <th class=\"col_heading level0 col4\" >Recall</th>\n",
              "      <th class=\"col_heading level0 col5\" >f1 Score</th>\n",
              "      <th class=\"col_heading level0 col6\" >AUC</th>\n",
              "      <th class=\"col_heading level0 col7\" >mean abs error</th>\n",
              "    </tr>\n",
              "  </thead>\n",
              "  <tbody>\n",
              "    <tr>\n",
              "      <th id=\"T_5fc0e_level0_row0\" class=\"row_heading level0 row0\" >6</th>\n",
              "      <td id=\"T_5fc0e_row0_col0\" class=\"data row0 col0\" >GradientBoost</td>\n",
              "      <td id=\"T_5fc0e_row0_col1\" class=\"data row0 col1\" >0.997670</td>\n",
              "      <td id=\"T_5fc0e_row0_col2\" class=\"data row0 col2\" >0.937160</td>\n",
              "      <td id=\"T_5fc0e_row0_col3\" class=\"data row0 col3\" >0.934172</td>\n",
              "      <td id=\"T_5fc0e_row0_col4\" class=\"data row0 col4\" >0.940212</td>\n",
              "      <td id=\"T_5fc0e_row0_col5\" class=\"data row0 col5\" >0.937182</td>\n",
              "      <td id=\"T_5fc0e_row0_col6\" class=\"data row0 col6\" >0.937171</td>\n",
              "      <td id=\"T_5fc0e_row0_col7\" class=\"data row0 col7\" >0.062838</td>\n",
              "    </tr>\n",
              "    <tr>\n",
              "      <th id=\"T_5fc0e_level0_row1\" class=\"row_heading level0 row1\" >4</th>\n",
              "      <td id=\"T_5fc0e_row1_col0\" class=\"data row1 col0\" >RandomForest</td>\n",
              "      <td id=\"T_5fc0e_row1_col1\" class=\"data row1 col1\" >0.997760</td>\n",
              "      <td id=\"T_5fc0e_row1_col2\" class=\"data row1 col2\" >0.913280</td>\n",
              "      <td id=\"T_5fc0e_row1_col3\" class=\"data row1 col3\" >0.904601</td>\n",
              "      <td id=\"T_5fc0e_row1_col4\" class=\"data row1 col4\" >0.923433</td>\n",
              "      <td id=\"T_5fc0e_row1_col5\" class=\"data row1 col5\" >0.913920</td>\n",
              "      <td id=\"T_5fc0e_row1_col6\" class=\"data row1 col6\" >0.913305</td>\n",
              "      <td id=\"T_5fc0e_row1_col7\" class=\"data row1 col7\" >0.086724</td>\n",
              "    </tr>\n",
              "    <tr>\n",
              "      <th id=\"T_5fc0e_level0_row2\" class=\"row_heading level0 row2\" >5</th>\n",
              "      <td id=\"T_5fc0e_row2_col0\" class=\"data row2 col0\" >DecisionTree</td>\n",
              "      <td id=\"T_5fc0e_row2_col1\" class=\"data row2 col1\" >0.997790</td>\n",
              "      <td id=\"T_5fc0e_row2_col2\" class=\"data row2 col2\" >0.875290</td>\n",
              "      <td id=\"T_5fc0e_row2_col3\" class=\"data row2 col3\" >0.868901</td>\n",
              "      <td id=\"T_5fc0e_row2_col4\" class=\"data row2 col4\" >0.883106</td>\n",
              "      <td id=\"T_5fc0e_row2_col5\" class=\"data row2 col5\" >0.875946</td>\n",
              "      <td id=\"T_5fc0e_row2_col6\" class=\"data row2 col6\" >0.875317</td>\n",
              "      <td id=\"T_5fc0e_row2_col7\" class=\"data row2 col7\" >0.124706</td>\n",
              "    </tr>\n",
              "    <tr>\n",
              "      <th id=\"T_5fc0e_level0_row3\" class=\"row_heading level0 row3\" >3</th>\n",
              "      <td id=\"T_5fc0e_row3_col0\" class=\"data row3 col0\" >KNN</td>\n",
              "      <td id=\"T_5fc0e_row3_col1\" class=\"data row3 col1\" >0.902660</td>\n",
              "      <td id=\"T_5fc0e_row3_col2\" class=\"data row3 col2\" >0.863410</td>\n",
              "      <td id=\"T_5fc0e_row3_col3\" class=\"data row3 col3\" >0.819689</td>\n",
              "      <td id=\"T_5fc0e_row3_col4\" class=\"data row3 col4\" >0.930777</td>\n",
              "      <td id=\"T_5fc0e_row3_col5\" class=\"data row3 col5\" >0.871708</td>\n",
              "      <td id=\"T_5fc0e_row3_col6\" class=\"data row3 col6\" >0.863606</td>\n",
              "      <td id=\"T_5fc0e_row3_col7\" class=\"data row3 col7\" >0.136589</td>\n",
              "    </tr>\n",
              "    <tr>\n",
              "      <th id=\"T_5fc0e_level0_row4\" class=\"row_heading level0 row4\" >7</th>\n",
              "      <td id=\"T_5fc0e_row4_col0\" class=\"data row4 col0\" >XGBOOST</td>\n",
              "      <td id=\"T_5fc0e_row4_col1\" class=\"data row4 col1\" >0.811520</td>\n",
              "      <td id=\"T_5fc0e_row4_col2\" class=\"data row4 col2\" >0.812000</td>\n",
              "      <td id=\"T_5fc0e_row4_col3\" class=\"data row4 col3\" >0.791370</td>\n",
              "      <td id=\"T_5fc0e_row4_col4\" class=\"data row4 col4\" >0.845924</td>\n",
              "      <td id=\"T_5fc0e_row4_col5\" class=\"data row4 col5\" >0.817738</td>\n",
              "      <td id=\"T_5fc0e_row4_col6\" class=\"data row4 col6\" >0.812101</td>\n",
              "      <td id=\"T_5fc0e_row4_col7\" class=\"data row4 col7\" >0.187997</td>\n",
              "    </tr>\n",
              "    <tr>\n",
              "      <th id=\"T_5fc0e_level0_row5\" class=\"row_heading level0 row5\" >8</th>\n",
              "      <td id=\"T_5fc0e_row5_col0\" class=\"data row5 col0\" >ADABoost</td>\n",
              "      <td id=\"T_5fc0e_row5_col1\" class=\"data row5 col1\" >0.779650</td>\n",
              "      <td id=\"T_5fc0e_row5_col2\" class=\"data row5 col2\" >0.780440</td>\n",
              "      <td id=\"T_5fc0e_row5_col3\" class=\"data row5 col3\" >0.765876</td>\n",
              "      <td id=\"T_5fc0e_row5_col4\" class=\"data row5 col4\" >0.805980</td>\n",
              "      <td id=\"T_5fc0e_row5_col5\" class=\"data row5 col5\" >0.785416</td>\n",
              "      <td id=\"T_5fc0e_row5_col6\" class=\"data row5 col6\" >0.780510</td>\n",
              "      <td id=\"T_5fc0e_row5_col7\" class=\"data row5 col7\" >0.219564</td>\n",
              "    </tr>\n",
              "    <tr>\n",
              "      <th id=\"T_5fc0e_level0_row6\" class=\"row_heading level0 row6\" >1</th>\n",
              "      <td id=\"T_5fc0e_row6_col0\" class=\"data row6 col0\" >SVMLinear</td>\n",
              "      <td id=\"T_5fc0e_row6_col1\" class=\"data row6 col1\" >0.741870</td>\n",
              "      <td id=\"T_5fc0e_row6_col2\" class=\"data row6 col2\" >0.742860</td>\n",
              "      <td id=\"T_5fc0e_row6_col3\" class=\"data row6 col3\" >0.714078</td>\n",
              "      <td id=\"T_5fc0e_row6_col4\" class=\"data row6 col4\" >0.807593</td>\n",
              "      <td id=\"T_5fc0e_row6_col5\" class=\"data row6 col5\" >0.757962</td>\n",
              "      <td id=\"T_5fc0e_row6_col6\" class=\"data row6 col6\" >0.743048</td>\n",
              "      <td id=\"T_5fc0e_row6_col7\" class=\"data row6 col7\" >0.257139</td>\n",
              "    </tr>\n",
              "    <tr>\n",
              "      <th id=\"T_5fc0e_level0_row7\" class=\"row_heading level0 row7\" >9</th>\n",
              "      <td id=\"T_5fc0e_row7_col0\" class=\"data row7 col0\" >LDA</td>\n",
              "      <td id=\"T_5fc0e_row7_col1\" class=\"data row7 col1\" >0.741650</td>\n",
              "      <td id=\"T_5fc0e_row7_col2\" class=\"data row7 col2\" >0.742730</td>\n",
              "      <td id=\"T_5fc0e_row7_col3\" class=\"data row7 col3\" >0.711931</td>\n",
              "      <td id=\"T_5fc0e_row7_col4\" class=\"data row7 col4\" >0.812893</td>\n",
              "      <td id=\"T_5fc0e_row7_col5\" class=\"data row7 col5\" >0.759069</td>\n",
              "      <td id=\"T_5fc0e_row7_col6\" class=\"data row7 col6\" >0.742936</td>\n",
              "      <td id=\"T_5fc0e_row7_col7\" class=\"data row7 col7\" >0.257267</td>\n",
              "    </tr>\n",
              "    <tr>\n",
              "      <th id=\"T_5fc0e_level0_row8\" class=\"row_heading level0 row8\" >0</th>\n",
              "      <td id=\"T_5fc0e_row8_col0\" class=\"data row8 col0\" >Logestic Regression</td>\n",
              "      <td id=\"T_5fc0e_row8_col1\" class=\"data row8 col1\" >0.741690</td>\n",
              "      <td id=\"T_5fc0e_row8_col2\" class=\"data row8 col2\" >0.742700</td>\n",
              "      <td id=\"T_5fc0e_row8_col3\" class=\"data row8 col3\" >0.719203</td>\n",
              "      <td id=\"T_5fc0e_row8_col4\" class=\"data row8 col4\" >0.793847</td>\n",
              "      <td id=\"T_5fc0e_row8_col5\" class=\"data row8 col5\" >0.754684</td>\n",
              "      <td id=\"T_5fc0e_row8_col6\" class=\"data row8 col6\" >0.742849</td>\n",
              "      <td id=\"T_5fc0e_row8_col7\" class=\"data row8 col7\" >0.257299</td>\n",
              "    </tr>\n",
              "    <tr>\n",
              "      <th id=\"T_5fc0e_level0_row9\" class=\"row_heading level0 row9\" >2</th>\n",
              "      <td id=\"T_5fc0e_row9_col0\" class=\"data row9 col0\" >SGD</td>\n",
              "      <td id=\"T_5fc0e_row9_col1\" class=\"data row9 col1\" >0.733370</td>\n",
              "      <td id=\"T_5fc0e_row9_col2\" class=\"data row9 col2\" >0.733600</td>\n",
              "      <td id=\"T_5fc0e_row9_col3\" class=\"data row9 col3\" >0.747526</td>\n",
              "      <td id=\"T_5fc0e_row9_col4\" class=\"data row9 col4\" >0.703120</td>\n",
              "      <td id=\"T_5fc0e_row9_col5\" class=\"data row9 col5\" >0.724643</td>\n",
              "      <td id=\"T_5fc0e_row9_col6\" class=\"data row9 col6\" >0.733508</td>\n",
              "      <td id=\"T_5fc0e_row9_col7\" class=\"data row9 col7\" >0.266404</td>\n",
              "    </tr>\n",
              "  </tbody>\n",
              "</table>\n"
            ]
          },
          "metadata": {},
          "execution_count": 12
        }
      ],
      "source": [
        "\n",
        "models_compare.style.set_properties(**{'background-color': 'blue',\n",
        "                           'color': 'white'})\n"
      ]
    }
  ],
  "metadata": {
    "colab": {
      "collapsed_sections": [
        "Qv8Mxtf2EkYm"
      ],
      "name": "hyper_para_multiple_ml_oversample_heart_disease.ipynb",
      "provenance": [],
      "authorship_tag": "ABX9TyNbxQlylDyUlccJs4wKCFD5",
      "include_colab_link": true
    },
    "kernelspec": {
      "display_name": "Python 3",
      "name": "python3"
    },
    "language_info": {
      "name": "python"
    }
  },
  "nbformat": 4,
  "nbformat_minor": 0
}